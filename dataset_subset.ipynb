{
 "cells": [
  {
   "cell_type": "code",
   "execution_count": 1,
   "metadata": {},
   "outputs": [],
   "source": [
    "import numpy as np\n",
    "from scipy.io import loadmat\n",
    "mat = loadmat('train_data.mat')\n",
    "train_data = mat['train_data']\n",
    "train_labels = mat['train_info'][0, 0]['labels'].reshape(12000, )"
   ]
  },
  {
   "cell_type": "code",
   "execution_count": 13,
   "metadata": {},
   "outputs": [
    {
     "name": "stdout",
     "output_type": "stream",
     "text": [
      "(1800, 1800) (1800,)\n"
     ]
    }
   ],
   "source": [
    "small_data = np.empty((0,1800))\n",
    "small_labels = np.empty((0,))\n",
    "for i in range(0, 12000, 100):\n",
    "    small_data = np.append(small_data, train_data[i:i+15, 0:1800], axis=0)\n",
    "    small_labels = np.append(small_labels, train_labels[i:i+15])\n",
    "print(small_data.shape, small_labels.shape)"
   ]
  },
  {
   "cell_type": "code",
   "execution_count": null,
   "metadata": {},
   "outputs": [],
   "source": [
    "from sklearn import svm\n",
    "from sklearn.model_selection import train_test_split\n",
    "clf = svm.SVC(kernel='precomputed')\n",
    "clf.fit(small_data, small_labels)"
   ]
  },
  {
   "cell_type": "code",
   "execution_count": null,
   "metadata": {},
   "outputs": [],
   "source": [
    "mat1 = loadmat('test_data.mat')\n",
    "test_data = mat1['test_data']\n",
    "test_labels = mat1['test_info'][0, 0]['labels'].reshape(len(test_data), )\n",
    "\n",
    "preds = clf.predict(test_data)\n",
    "\n",
    "from sklearn.metrics import confusion_matrix\n",
    "cm = confusion_matrix(test_labels, preds)\n",
    "np.savetxt('confusion.txt', cm)"
   ]
  }
 ],
 "metadata": {
  "kernelspec": {
   "display_name": "Python 3",
   "language": "python",
   "name": "python3"
  },
  "language_info": {
   "codemirror_mode": {
    "name": "ipython",
    "version": 3
   },
   "file_extension": ".py",
   "mimetype": "text/x-python",
   "name": "python",
   "nbconvert_exporter": "python",
   "pygments_lexer": "ipython3",
   "version": "3.8.5"
  }
 },
 "nbformat": 4,
 "nbformat_minor": 4
}
