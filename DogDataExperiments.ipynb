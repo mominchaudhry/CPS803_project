{
 "cells": [
  {
   "cell_type": "code",
   "execution_count": 53,
   "metadata": {},
   "outputs": [],
   "source": [
    "import os\n",
    "import numpy as np\n",
    "import matplotlib.pyplot as plt\n",
    "import cv2\n",
    "import re\n",
    "import time\n",
    "from PIL import Image\n",
    "from sklearn import svm\n",
    "from sklearn.model_selection import train_test_split"
   ]
  },
  {
   "cell_type": "code",
   "execution_count": 111,
   "metadata": {},
   "outputs": [],
   "source": [
    "# def load_dataset(verbose=False):\n",
    "#     rootDir = 'Images'\n",
    "#     images = np.zeros((1, 1280), dtype=np.uint8)\n",
    "#     labels = np.empty(20580, dtype=object)\n",
    "#     i = 0\n",
    "#     j = 0\n",
    "#     sift = cv2.SIFT_create(10)\n",
    "#     for dirName, subdirList, fileList in os.walk(rootDir):\n",
    "#         #print('Found directory: %s' % dirName)\n",
    "#         if dirName != 'Images':\n",
    "#             l = dirName.split('-')\n",
    "#             label = l[1]\n",
    "# #             if j == 5:\n",
    "# #                 break\n",
    "#             j += 1\n",
    "#             print(label, j)\n",
    "#         count = 0\n",
    "#         for fname in fileList:\n",
    "#             if dirName != 'Images':\n",
    "#                 img = cv2.imread(dirName + '/' + fname, 1)\n",
    "#                 file = open(\"Annotation\\\\\" + dirName.replace('Images\\\\', '') + \"\\\\\" + fname.replace('.jpg', '')).read()\n",
    "#                 bnd = [s.strip() for s in re.findall(r'<bndbox>(.*)</bndbox>', file, re.DOTALL)][0].replace('<', ' ').replace('>', ' ').split()\n",
    "#                 bndbox = [bnd[1], bnd[4], bnd[7], bnd[10]]\n",
    "#                 im3 = img[int(bndbox[1]):int(bndbox[3]), int(bndbox[0]):int(bndbox[2])]\n",
    "#                 im = Image.fromarray(im3)\n",
    "#                 im.save(dirName + '/' + fname)"
   ]
  },
  {
   "cell_type": "code",
   "execution_count": 112,
   "metadata": {},
   "outputs": [
    {
     "name": "stdout",
     "output_type": "stream",
     "text": [
      "Chihuahua 1\n",
      "Japanese_spaniel 2\n",
      "Maltese_dog 3\n",
      "Pekinese 4\n",
      "Shih_Tzu 5\n",
      "Blenheim_spaniel 6\n",
      "papillon 7\n",
      "toy_terrier 8\n",
      "Rhodesian_ridgeback 9\n",
      "Afghan_hound 10\n",
      "basset 11\n",
      "beagle 12\n",
      "bloodhound 13\n",
      "bluetick 14\n",
      "black_and_tan_coonhound 15\n",
      "Walker_hound 16\n",
      "English_foxhound 17\n",
      "redbone 18\n",
      "borzoi 19\n",
      "Irish_wolfhound 20\n",
      "Italian_greyhound 21\n",
      "whippet 22\n",
      "Ibizan_hound 23\n",
      "Norwegian_elkhound 24\n",
      "otterhound 25\n",
      "Saluki 26\n",
      "Scottish_deerhound 27\n",
      "Weimaraner 28\n",
      "Staffordshire_bullterrier 29\n",
      "American_Staffordshire_terrier 30\n",
      "Bedlington_terrier 31\n",
      "Border_terrier 32\n",
      "Kerry_blue_terrier 33\n",
      "Irish_terrier 34\n",
      "Norfolk_terrier 35\n",
      "Norwich_terrier 36\n",
      "Yorkshire_terrier 37\n",
      "wire_haired_fox_terrier 38\n",
      "Lakeland_terrier 39\n",
      "Sealyham_terrier 40\n",
      "Airedale 41\n",
      "cairn 42\n",
      "Australian_terrier 43\n",
      "Dandie_Dinmont 44\n",
      "Boston_bull 45\n",
      "miniature_schnauzer 46\n",
      "giant_schnauzer 47\n",
      "standard_schnauzer 48\n",
      "Scotch_terrier 49\n",
      "Tibetan_terrier 50\n",
      "silky_terrier 51\n",
      "soft_coated_wheaten_terrier 52\n",
      "West_Highland_white_terrier 53\n",
      "Lhasa 54\n",
      "flat_coated_retriever 55\n",
      "curly_coated_retriever 56\n",
      "golden_retriever 57\n",
      "Labrador_retriever 58\n",
      "Chesapeake_Bay_retriever 59\n",
      "German_short_haired_pointer 60\n",
      "vizsla 61\n",
      "English_setter 62\n",
      "Irish_setter 63\n",
      "Gordon_setter 64\n",
      "Brittany_spaniel 65\n",
      "clumber 66\n",
      "English_springer 67\n",
      "Welsh_springer_spaniel 68\n",
      "cocker_spaniel 69\n",
      "Sussex_spaniel 70\n",
      "Irish_water_spaniel 71\n",
      "kuvasz 72\n",
      "schipperke 73\n",
      "groenendael 74\n",
      "malinois 75\n",
      "briard 76\n",
      "kelpie 77\n",
      "komondor 78\n",
      "Old_English_sheepdog 79\n",
      "Shetland_sheepdog 80\n",
      "collie 81\n",
      "Border_collie 82\n",
      "Bouvier_des_Flandres 83\n",
      "Rottweiler 84\n",
      "German_shepherd 85\n",
      "Doberman 86\n",
      "miniature_pinscher 87\n",
      "Greater_Swiss_Mountain_dog 88\n",
      "Bernese_mountain_dog 89\n",
      "Appenzeller 90\n",
      "EntleBucher 91\n",
      "boxer 92\n",
      "bull_mastiff 93\n",
      "Tibetan_mastiff 94\n",
      "French_bulldog 95\n",
      "Great_Dane 96\n",
      "Saint_Bernard 97\n",
      "Eskimo_dog 98\n",
      "malamute 99\n",
      "Siberian_husky 100\n",
      "affenpinscher 101\n",
      "basenji 102\n",
      "pug 103\n",
      "Leonberg 104\n",
      "Newfoundland 105\n",
      "Great_Pyrenees 106\n",
      "Samoyed 107\n",
      "Pomeranian 108\n",
      "chow 109\n",
      "keeshond 110\n",
      "Brabancon_griffon 111\n",
      "Pembroke 112\n",
      "Cardigan 113\n",
      "toy_poodle 114\n",
      "miniature_poodle 115\n",
      "standard_poodle 116\n",
      "Mexican_hairless 117\n",
      "dingo 118\n",
      "dhole 119\n",
      "African_hunting_dog 120\n"
     ]
    }
   ],
   "source": [
    "# load_dataset()"
   ]
  },
  {
   "cell_type": "code",
   "execution_count": 113,
   "metadata": {},
   "outputs": [
    {
     "name": "stdout",
     "output_type": "stream",
     "text": [
      "(12000, 12000) (12000,)\n"
     ]
    }
   ],
   "source": [
    "from scipy.io import loadmat\n",
    "mat = loadmat('train_data.mat')\n",
    "train_data = mat['train_data']\n",
    "train_labels = mat['train_info'][0, 0]['labels'].reshape(12000, )\n",
    "print(train_data.shape, train_labels.shape)"
   ]
  },
  {
   "cell_type": "code",
   "execution_count": null,
   "metadata": {},
   "outputs": [],
   "source": [
    "clf = svm.SVC(kernel='precomputed')\n",
    "clf.fit(train_data, train_labels)"
   ]
  },
  {
   "cell_type": "code",
   "execution_count": null,
   "metadata": {},
   "outputs": [],
   "source": [
    "mat1 = loadmat('test_data.mat')\n",
    "test_data = mat1['test_data']\n",
    "test_labels = mat1['test_info'][0, 0]['labels'].reshape(len(test_data), )\n",
    "print(test_data.shape, test_labels.shape)"
   ]
  },
  {
   "cell_type": "code",
   "execution_count": null,
   "metadata": {},
   "outputs": [],
   "source": [
    "preds = clf.predict(test_data)\n",
    "print(preds)\n",
    "print(test_labels)"
   ]
  },
  {
   "cell_type": "code",
   "execution_count": null,
   "metadata": {},
   "outputs": [],
   "source": [
    "from sklearn.metrics import confusion_matrix\n",
    "cm = confusion_matrix(test_labels, preds)\n",
    "np.savetxt('confusion.txt', cm)"
   ]
  },
  {
   "cell_type": "code",
   "execution_count": null,
   "metadata": {},
   "outputs": [],
   "source": [
    "from sklearn.metrics import accuracy_score\n",
    "accuracy_score(test_labels, preds)"
   ]
  },
  {
   "cell_type": "code",
   "execution_count": null,
   "metadata": {},
   "outputs": [],
   "source": [
    "'''\n",
    "\n",
    "CNN BELOW\n",
    "\n",
    "'''"
   ]
  },
  {
   "cell_type": "code",
   "execution_count": 89,
   "metadata": {},
   "outputs": [
    {
     "name": "stdout",
     "output_type": "stream",
     "text": [
      "cuda:0\n"
     ]
    }
   ],
   "source": [
    "import torch\n",
    "import torchvision\n",
    "import torchvision.transforms as transforms\n",
    "device = torch.device(\"cuda:0\" if torch.cuda.is_available() else \"cpu\")\n",
    "\n",
    "# Assuming that we are on a CUDA machine, this should print a CUDA device:\n",
    "\n",
    "print(device)"
   ]
  },
  {
   "cell_type": "code",
   "execution_count": 90,
   "metadata": {},
   "outputs": [
    {
     "name": "stdout",
     "output_type": "stream",
     "text": [
      "<torch.utils.data.dataset.Subset object at 0x000001F798B937C0> <torch.utils.data.dataset.Subset object at 0x000001F798B93130>\n"
     ]
    }
   ],
   "source": [
    "trans = transforms.Compose([\n",
    "    transforms.Resize((128, 128)),\n",
    "    transforms.ToTensor(),\n",
    "    transforms.Normalize((0.5, 0.5, 0.5), (0.5, 0.5, 0.5))\n",
    "])\n",
    "data = torchvision.datasets.ImageFolder(root='Images', transform=trans)\n",
    "traindata, testdata = torch.utils.data.random_split(data, [12000, 8580])\n",
    "print(traindata, testdata)"
   ]
  },
  {
   "cell_type": "code",
   "execution_count": 91,
   "metadata": {},
   "outputs": [
    {
     "name": "stdout",
     "output_type": "stream",
     "text": [
      "<torch.utils.data.dataloader.DataLoader object at 0x000001F83C6DB580> <torch.utils.data.dataloader.DataLoader object at 0x000001F78376AEE0>\n"
     ]
    }
   ],
   "source": [
    "trainloader = torch.utils.data.DataLoader(traindata, batch_size=4)\n",
    "testloader = torch.utils.data.DataLoader(testdata, batch_size = 4)\n",
    "print(trainloader, testloader)"
   ]
  },
  {
   "cell_type": "code",
   "execution_count": 92,
   "metadata": {},
   "outputs": [],
   "source": [
    "import torch.nn as nn\n",
    "import torch.nn.functional as F\n",
    "\n",
    "\n",
    "class Net(nn.Module):\n",
    "    def __init__(self):\n",
    "        super(Net, self).__init__()\n",
    "        self.conv1 = nn.Conv2d(3, 60, 5)\n",
    "        self.pool = nn.MaxPool2d(2, 2)\n",
    "        self.conv2 = nn.Conv2d(60, 16, 5)\n",
    "        self.fc1 = nn.Linear(16 * 29*29, 240)\n",
    "        self.fc2 = nn.Linear(240, 120)\n",
    "#         self.fc3 = nn.Linear(84, 10)\n",
    "\n",
    "    def forward(self, x):\n",
    "        x = self.pool(F.relu(self.conv1(x)))\n",
    "        x = self.pool(F.relu(self.conv2(x)))\n",
    "        x = x.view(x.size(0), 16*29*29)\n",
    "        x = F.relu(self.fc1(x))\n",
    "        #x = F.relu(self.fc2(x))\n",
    "        x = self.fc2(x)\n",
    "        return x\n",
    "\n",
    "\n",
    "net = Net()"
   ]
  },
  {
   "cell_type": "code",
   "execution_count": 93,
   "metadata": {},
   "outputs": [
    {
     "data": {
      "text/plain": [
       "Net(\n",
       "  (conv1): Conv2d(3, 60, kernel_size=(5, 5), stride=(1, 1))\n",
       "  (pool): MaxPool2d(kernel_size=2, stride=2, padding=0, dilation=1, ceil_mode=False)\n",
       "  (conv2): Conv2d(60, 16, kernel_size=(5, 5), stride=(1, 1))\n",
       "  (fc1): Linear(in_features=13456, out_features=240, bias=True)\n",
       "  (fc2): Linear(in_features=240, out_features=120, bias=True)\n",
       ")"
      ]
     },
     "execution_count": 93,
     "metadata": {},
     "output_type": "execute_result"
    }
   ],
   "source": [
    "net.to(device)"
   ]
  },
  {
   "cell_type": "code",
   "execution_count": 94,
   "metadata": {},
   "outputs": [],
   "source": [
    "import torch.optim as optim\n",
    "\n",
    "criterion = nn.CrossEntropyLoss()\n",
    "optimizer = optim.SGD(net.parameters(), lr=0.001, momentum=0.9)"
   ]
  },
  {
   "cell_type": "code",
   "execution_count": 95,
   "metadata": {},
   "outputs": [
    {
     "name": "stdout",
     "output_type": "stream",
     "text": [
      "[1,  1000] loss: 2.337\n",
      "[1,  2000] loss: 2.216\n",
      "[1,  3000] loss: 2.173\n",
      "Finished Training\n"
     ]
    }
   ],
   "source": [
    "for epoch in range(1):  # loop over the dataset multiple times\n",
    "\n",
    "    running_loss = 0.0\n",
    "    for i, data in enumerate(trainloader, 0):\n",
    "        # get the inputs; data is a list of [inputs, labels]\n",
    "        inputs, labels = data[0].to(device), data[1].to(device)\n",
    "\n",
    "        # zero the parameter gradients\n",
    "        optimizer.zero_grad()\n",
    "\n",
    "        # forward + backward + optimize\n",
    "        outputs = net(inputs)\n",
    "        loss = criterion(outputs, labels)\n",
    "        loss.backward()\n",
    "        optimizer.step()\n",
    "\n",
    "        # print statistics\n",
    "        running_loss += loss.item()\n",
    "        if i % 1000 == 999:    # print every 1000 mini-batches\n",
    "            print('[%d, %5d] loss: %.3f' %\n",
    "                  (epoch + 1, i + 1, running_loss / 2000))\n",
    "            running_loss = 0.0\n",
    "\n",
    "print('Finished Training')"
   ]
  },
  {
   "cell_type": "code",
   "execution_count": 96,
   "metadata": {},
   "outputs": [],
   "source": [
    "PATH = './model.pth'\n",
    "torch.save(net.state_dict(), PATH)"
   ]
  },
  {
   "cell_type": "code",
   "execution_count": 46,
   "metadata": {},
   "outputs": [
    {
     "data": {
      "text/plain": [
       "<All keys matched successfully>"
      ]
     },
     "execution_count": 46,
     "metadata": {},
     "output_type": "execute_result"
    }
   ],
   "source": [
    "net = Net()\n",
    "net.load_state_dict(torch.load(PATH))"
   ]
  },
  {
   "cell_type": "code",
   "execution_count": 97,
   "metadata": {},
   "outputs": [
    {
     "name": "stdout",
     "output_type": "stream",
     "text": [
      "Accuracy of the network on the 8580 test images: 5.058 %\n"
     ]
    }
   ],
   "source": [
    "correct = 0.0\n",
    "total = 0.0\n",
    "with torch.no_grad():\n",
    "    for data in testloader:\n",
    "        images, labels = data[0].to(device), data[1].to(device)\n",
    "        outputs = net(images)\n",
    "        _, predicted = torch.max(outputs.data, 1)\n",
    "        total += labels.size(0)\n",
    "        correct += (predicted == labels).sum().item()\n",
    "\n",
    "print('Accuracy of the network on the 8580 test images: %.3f %%' % (\n",
    "    100 * correct / total))"
   ]
  },
  {
   "cell_type": "code",
   "execution_count": 86,
   "metadata": {},
   "outputs": [],
   "source": [
    "f = open(\"classes.txt\", \"r\")\n",
    "classmap = {}\n",
    "for i in range(120):\n",
    "    classs = f.readline().split(\" \")\n",
    "    classmap[i] = classs[0]"
   ]
  },
  {
   "cell_type": "code",
   "execution_count": 98,
   "metadata": {},
   "outputs": [
    {
     "name": "stdout",
     "output_type": "stream",
     "text": [
      "Accuracy of                      Chihuahua :          0 %\n",
      "Accuracy of               Japanese_spaniel :          0 %\n",
      "Accuracy of                    Maltese_dog :          8 %\n",
      "Accuracy of                       Pekinese :          0 %\n",
      "Accuracy of                       Shih_Tzu :          8 %\n",
      "Accuracy of               Blenheim_spaniel :          0 %\n",
      "Accuracy of                       papillon :         46 %\n",
      "Accuracy of                    toy_terrier :          0 %\n",
      "Accuracy of            Rhodesian_ridgeback :          0 %\n",
      "Accuracy of                   Afghan_hound :          0 %\n",
      "Accuracy of                         basset :          0 %\n",
      "Accuracy of                         beagle :          5 %\n",
      "Accuracy of                     bloodhound :          2 %\n",
      "Accuracy of                       bluetick :          0 %\n",
      "Accuracy of        black_and_tan_coonhound :         11 %\n",
      "Accuracy of                   Walker_hound :          0 %\n",
      "Accuracy of               English_foxhound :          0 %\n",
      "Accuracy of                        redbone :          0 %\n",
      "Accuracy of                         borzoi :          0 %\n",
      "Accuracy of                Irish_wolfhound :          0 %\n",
      "Accuracy of              Italian_greyhound :          1 %\n",
      "Accuracy of                        whippet :          0 %\n",
      "Accuracy of                   Ibizan_hound :          0 %\n",
      "Accuracy of             Norwegian_elkhound :          4 %\n",
      "Accuracy of                     otterhound :          0 %\n",
      "Accuracy of                         Saluki :          0 %\n",
      "Accuracy of             Scottish_deerhound :          6 %\n",
      "Accuracy of                     Weimaraner :          0 %\n",
      "Accuracy of      Staffordshire_bullterrier :          0 %\n",
      "Accuracy of American_Staffordshire_terrier :          0 %\n",
      "Accuracy of             Bedlington_terrier :          0 %\n",
      "Accuracy of                 Border_terrier :          3 %\n",
      "Accuracy of             Kerry_blue_terrier :          1 %\n",
      "Accuracy of                  Irish_terrier :          0 %\n",
      "Accuracy of                Norfolk_terrier :         19 %\n",
      "Accuracy of                Norwich_terrier :          0 %\n",
      "Accuracy of              Yorkshire_terrier :          7 %\n",
      "Accuracy of        wire_haired_fox_terrier :          0 %\n",
      "Accuracy of               Lakeland_terrier :          2 %\n",
      "Accuracy of               Sealyham_terrier :         19 %\n",
      "Accuracy of                       Airedale :         11 %\n",
      "Accuracy of                          cairn :          0 %\n",
      "Accuracy of             Australian_terrier :          0 %\n",
      "Accuracy of                 Dandie_Dinmont :          0 %\n",
      "Accuracy of                    Boston_bull :          0 %\n",
      "Accuracy of            miniature_schnauzer :          0 %\n",
      "Accuracy of                giant_schnauzer :          0 %\n",
      "Accuracy of             standard_schnauzer :          1 %\n",
      "Accuracy of                 Scotch_terrier :         66 %\n",
      "Accuracy of                Tibetan_terrier :          0 %\n",
      "Accuracy of                  silky_terrier :          2 %\n",
      "Accuracy of    soft_coated_wheaten_terrier :          0 %\n",
      "Accuracy of    West_Highland_white_terrier :          0 %\n",
      "Accuracy of                          Lhasa :          0 %\n",
      "Accuracy of          flat_coated_retriever :          0 %\n",
      "Accuracy of         curly_coated_retriever :          7 %\n",
      "Accuracy of               golden_retriever :          0 %\n",
      "Accuracy of             Labrador_retriever :          0 %\n",
      "Accuracy of       Chesapeake_Bay_retriever :          0 %\n",
      "Accuracy of    German_short_haired_pointer :          0 %\n",
      "Accuracy of                         vizsla :          0 %\n",
      "Accuracy of                 English_setter :          0 %\n",
      "Accuracy of                   Irish_setter :         66 %\n",
      "Accuracy of                  Gordon_setter :          5 %\n",
      "Accuracy of               Brittany_spaniel :         10 %\n",
      "Accuracy of                        clumber :          0 %\n",
      "Accuracy of               English_springer :          1 %\n",
      "Accuracy of         Welsh_springer_spaniel :          0 %\n",
      "Accuracy of                 cocker_spaniel :          0 %\n",
      "Accuracy of                 Sussex_spaniel :          4 %\n",
      "Accuracy of            Irish_water_spaniel :          3 %\n",
      "Accuracy of                         kuvasz :          1 %\n",
      "Accuracy of                     schipperke :         24 %\n",
      "Accuracy of                    groenendael :          2 %\n",
      "Accuracy of                       malinois :          0 %\n",
      "Accuracy of                         briard :          1 %\n",
      "Accuracy of                         kelpie :          0 %\n",
      "Accuracy of                       komondor :          0 %\n",
      "Accuracy of           Old_English_sheepdog :          4 %\n",
      "Accuracy of              Shetland_sheepdog :          0 %\n",
      "Accuracy of                         collie :          0 %\n",
      "Accuracy of                  Border_collie :         10 %\n",
      "Accuracy of           Bouvier_des_Flandres :          3 %\n",
      "Accuracy of                     Rottweiler :          0 %\n",
      "Accuracy of                German_shepherd :          0 %\n",
      "Accuracy of                       Doberman :          0 %\n",
      "Accuracy of             miniature_pinscher :          9 %\n",
      "Accuracy of     Greater_Swiss_Mountain_dog :          1 %\n",
      "Accuracy of           Bernese_mountain_dog :          0 %\n",
      "Accuracy of                    Appenzeller :          0 %\n",
      "Accuracy of                    EntleBucher :         44 %\n",
      "Accuracy of                          boxer :          1 %\n",
      "Accuracy of                   bull_mastiff :          0 %\n",
      "Accuracy of                Tibetan_mastiff :          0 %\n",
      "Accuracy of                 French_bulldog :          0 %\n",
      "Accuracy of                     Great_Dane :          0 %\n",
      "Accuracy of                  Saint_Bernard :          0 %\n",
      "Accuracy of                     Eskimo_dog :         19 %\n",
      "Accuracy of                       malamute :          0 %\n",
      "Accuracy of                 Siberian_husky :          0 %\n",
      "Accuracy of                  affenpinscher :          0 %\n",
      "Accuracy of                        basenji :         10 %\n",
      "Accuracy of                            pug :          1 %\n",
      "Accuracy of                       Leonberg :          3 %\n",
      "Accuracy of                   Newfoundland :          0 %\n",
      "Accuracy of                 Great_Pyrenees :          0 %\n",
      "Accuracy of                        Samoyed :         82 %\n",
      "Accuracy of                     Pomeranian :         21 %\n",
      "Accuracy of                           chow :          0 %\n",
      "Accuracy of                       keeshond :          1 %\n",
      "Accuracy of              Brabancon_griffon :          0 %\n",
      "Accuracy of                       Pembroke :          0 %\n",
      "Accuracy of                       Cardigan :          0 %\n",
      "Accuracy of                     toy_poodle :          0 %\n",
      "Accuracy of               miniature_poodle :          0 %\n",
      "Accuracy of                standard_poodle :          0 %\n",
      "Accuracy of               Mexican_hairless :          0 %\n",
      "Accuracy of                          dingo :          0 %\n",
      "Accuracy of                          dhole :          0 %\n",
      "Accuracy of            African_hunting_dog :          0 %\n"
     ]
    }
   ],
   "source": [
    "class_correct = list(0. for i in range(120))\n",
    "class_total = list(0. for i in range(120))\n",
    "with torch.no_grad():\n",
    "    for data in testloader:\n",
    "        images, labels = data[0].to(device), data[1].to(device)\n",
    "        outputs = net(images)\n",
    "        _, predicted = torch.max(outputs, 1)\n",
    "        c = (predicted == labels).squeeze()\n",
    "        for i in range(4):\n",
    "            label = labels[i]\n",
    "            class_correct[label] += c[i].item()\n",
    "            class_total[label] += 1\n",
    "\n",
    "\n",
    "for i in range(120):\n",
    "    print('Accuracy of %30s : %10d %%' % (\n",
    "        classmap[i], 100 * class_correct[i] / class_total[i]))"
   ]
  },
  {
   "cell_type": "code",
   "execution_count": null,
   "metadata": {},
   "outputs": [],
   "source": []
  }
 ],
 "metadata": {
  "kernelspec": {
   "display_name": "Python 3",
   "language": "python",
   "name": "python3"
  },
  "language_info": {
   "codemirror_mode": {
    "name": "ipython",
    "version": 3
   },
   "file_extension": ".py",
   "mimetype": "text/x-python",
   "name": "python",
   "nbconvert_exporter": "python",
   "pygments_lexer": "ipython3",
   "version": "3.8.5"
  }
 },
 "nbformat": 4,
 "nbformat_minor": 4
}
