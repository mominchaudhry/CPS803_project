{
 "cells": [
  {
   "cell_type": "code",
   "execution_count": 1,
   "metadata": {},
   "outputs": [],
   "source": [
    "import os\n",
    "import numpy as np\n",
    "import matplotlib.pyplot as plt\n",
    "import cv2\n",
    "import re\n",
    "import time\n",
    "from PIL import Image\n",
    "from sklearn import svm\n",
    "from sklearn.model_selection import train_test_split"
   ]
  },
  {
   "cell_type": "code",
   "execution_count": 2,
   "metadata": {},
   "outputs": [
    {
     "name": "stdout",
     "output_type": "stream",
     "text": [
      "(12000, 12000) (12000,)\n"
     ]
    }
   ],
   "source": [
    "from scipy.io import loadmat\n",
    "mat = loadmat('train_data.mat')\n",
    "train_data = mat['train_data']\n",
    "train_labels = mat['train_info'][0, 0]['labels'].reshape(12000, )\n",
    "print(train_data.shape, train_labels.shape)"
   ]
  },
  {
   "cell_type": "code",
   "execution_count": 3,
   "metadata": {},
   "outputs": [
    {
     "data": {
      "text/plain": [
       "SVC(kernel='precomputed')"
      ]
     },
     "execution_count": 3,
     "metadata": {},
     "output_type": "execute_result"
    }
   ],
   "source": [
    "clf = svm.SVC(kernel='precomputed')\n",
    "clf.fit(train_data, train_labels)"
   ]
  },
  {
   "cell_type": "code",
   "execution_count": 4,
   "metadata": {},
   "outputs": [
    {
     "name": "stdout",
     "output_type": "stream",
     "text": [
      "(8580, 12000) (8580,)\n"
     ]
    }
   ],
   "source": [
    "mat1 = loadmat('test_data.mat')\n",
    "test_data = mat1['test_data']\n",
    "test_labels = mat1['test_info'][0, 0]['labels'].reshape(len(test_data), )\n",
    "print(test_data.shape, test_labels.shape)"
   ]
  },
  {
   "cell_type": "code",
   "execution_count": 5,
   "metadata": {},
   "outputs": [
    {
     "name": "stdout",
     "output_type": "stream",
     "text": [
      "[  1   1   1 ... 120  69 120]\n",
      "[  1   1   1 ... 120 120 120]\n"
     ]
    }
   ],
   "source": [
    "preds = clf.predict(test_data)\n",
    "print(preds)\n",
    "print(test_labels)"
   ]
  },
  {
   "cell_type": "code",
   "execution_count": 6,
   "metadata": {},
   "outputs": [],
   "source": [
    "from sklearn.metrics import confusion_matrix\n",
    "cm = confusion_matrix(test_labels, preds)\n",
    "np.savetxt('confusion.txt', cm)"
   ]
  },
  {
   "cell_type": "code",
   "execution_count": 7,
   "metadata": {},
   "outputs": [
    {
     "name": "stdout",
     "output_type": "stream",
     "text": [
      "Accuracy of            African_hunting_dog :         47 %\n",
      "Accuracy of               Sealyham_terrier :         46 %\n",
      "Accuracy of            Irish_water_spaniel :         46 %\n",
      "Accuracy of                    groenendael :         46 %\n",
      "Accuracy of                          dhole :         46 %\n",
      "Accuracy of     Greater_Swiss_Mountain_dog :         44 %\n",
      "Accuracy of                       keeshond :         43 %\n",
      "Accuracy of                   Afghan_hound :         41 %\n",
      "Accuracy of                        Samoyed :         41 %\n",
      "Accuracy of                         vizsla :         40 %\n",
      "Accuracy of                       komondor :         40 %\n",
      "Accuracy of                     Rottweiler :         36 %\n",
      "Accuracy of                    EntleBucher :         35 %\n",
      "Accuracy of                     schipperke :         35 %\n",
      "Accuracy of               Blenheim_spaniel :         34 %\n",
      "Accuracy of                  silky_terrier :         33 %\n",
      "Accuracy of               English_foxhound :         33 %\n",
      "Accuracy of                 Sussex_spaniel :         33 %\n",
      "Accuracy of           Bouvier_des_Flandres :         32 %\n",
      "Accuracy of                     Pomeranian :         31 %\n",
      "Accuracy of                       Leonberg :         30 %\n",
      "Accuracy of                Norfolk_terrier :         30 %\n",
      "Accuracy of              Brabancon_griffon :         30 %\n",
      "Accuracy of               Japanese_spaniel :         29 %\n",
      "Accuracy of                  Saint_Bernard :         28 %\n",
      "Accuracy of                giant_schnauzer :         28 %\n",
      "Accuracy of             Scottish_deerhound :         28 %\n",
      "Accuracy of                       Airedale :         27 %\n",
      "Accuracy of         curly_coated_retriever :         27 %\n",
      "Accuracy of             Kerry_blue_terrier :         26 %\n",
      "Accuracy of                 Dandie_Dinmont :         26 %\n",
      "Accuracy of             miniature_pinscher :         26 %\n",
      "Accuracy of                           chow :         26 %\n",
      "Accuracy of                        clumber :         26 %\n",
      "Accuracy of                   Irish_setter :         25 %\n",
      "Accuracy of                Norwich_terrier :         24 %\n",
      "Accuracy of                     bloodhound :         24 %\n",
      "Accuracy of               Mexican_hairless :         23 %\n",
      "Accuracy of           Old_English_sheepdog :         23 %\n",
      "Accuracy of           Bernese_mountain_dog :         22 %\n",
      "Accuracy of                         kuvasz :         22 %\n",
      "Accuracy of                  Gordon_setter :         20 %\n",
      "Accuracy of         Welsh_springer_spaniel :         20 %\n",
      "Accuracy of                       papillon :         19 %\n",
      "Accuracy of                       Pembroke :         19 %\n",
      "Accuracy of    soft_coated_wheaten_terrier :         19 %\n",
      "Accuracy of                     otterhound :         19 %\n",
      "Accuracy of             Bedlington_terrier :         19 %\n",
      "Accuracy of                      Chihuahua :         19 %\n",
      "Accuracy of                 Scotch_terrier :         18 %\n",
      "Accuracy of    West_Highland_white_terrier :         18 %\n",
      "Accuracy of                    Maltese_dog :         18 %\n",
      "Accuracy of                     Weimaraner :         18 %\n",
      "Accuracy of                         borzoi :         17 %\n",
      "Accuracy of                        basenji :         17 %\n",
      "Accuracy of                  Irish_terrier :         17 %\n",
      "Accuracy of                 Great_Pyrenees :         16 %\n",
      "Accuracy of                   bull_mastiff :         16 %\n",
      "Accuracy of                         basset :         16 %\n",
      "Accuracy of                       malinois :         16 %\n",
      "Accuracy of                  Border_collie :         16 %\n",
      "Accuracy of             Australian_terrier :         15 %\n",
      "Accuracy of                         collie :         15 %\n",
      "Accuracy of                        whippet :         14 %\n",
      "Accuracy of                        redbone :         14 %\n",
      "Accuracy of        wire_haired_fox_terrier :         14 %\n",
      "Accuracy of               golden_retriever :         14 %\n",
      "Accuracy of                German_shepherd :         13 %\n",
      "Accuracy of                   Ibizan_hound :         12 %\n",
      "Accuracy of             Norwegian_elkhound :         12 %\n",
      "Accuracy of              Yorkshire_terrier :         12 %\n",
      "Accuracy of                    Boston_bull :         12 %\n",
      "Accuracy of    German_short_haired_pointer :         11 %\n",
      "Accuracy of                   Walker_hound :         11 %\n",
      "Accuracy of                 Border_terrier :         11 %\n",
      "Accuracy of                            pug :         11 %\n",
      "Accuracy of                       Cardigan :         10 %\n",
      "Accuracy of                          dingo :         10 %\n",
      "Accuracy of                       Shih_Tzu :         10 %\n",
      "Accuracy of       Chesapeake_Bay_retriever :         10 %\n",
      "Accuracy of                       malamute :         10 %\n",
      "Accuracy of                       Pekinese :         10 %\n",
      "Accuracy of               English_springer :         10 %\n",
      "Accuracy of                    Appenzeller :          9 %\n",
      "Accuracy of                    toy_terrier :          9 %\n",
      "Accuracy of            Rhodesian_ridgeback :          9 %\n",
      "Accuracy of               Brittany_spaniel :          9 %\n",
      "Accuracy of                Irish_wolfhound :          9 %\n",
      "Accuracy of                          Lhasa :          9 %\n",
      "Accuracy of               Lakeland_terrier :          9 %\n",
      "Accuracy of             standard_schnauzer :          9 %\n",
      "Accuracy of                         Saluki :          9 %\n",
      "Accuracy of        black_and_tan_coonhound :          8 %\n",
      "Accuracy of                       Doberman :          8 %\n",
      "Accuracy of          flat_coated_retriever :          7 %\n",
      "Accuracy of                         briard :          7 %\n",
      "Accuracy of                   Newfoundland :          7 %\n",
      "Accuracy of              Shetland_sheepdog :          7 %\n",
      "Accuracy of                         beagle :          6 %\n",
      "Accuracy of                          cairn :          6 %\n",
      "Accuracy of                Tibetan_mastiff :          5 %\n",
      "Accuracy of                       bluetick :          5 %\n",
      "Accuracy of            miniature_schnauzer :          5 %\n",
      "Accuracy of      Staffordshire_bullterrier :          5 %\n",
      "Accuracy of               miniature_poodle :          5 %\n",
      "Accuracy of                 Siberian_husky :          5 %\n",
      "Accuracy of                     Great_Dane :          5 %\n",
      "Accuracy of                 cocker_spaniel :          5 %\n",
      "Accuracy of American_Staffordshire_terrier :          4 %\n",
      "Accuracy of                     Eskimo_dog :          4 %\n",
      "Accuracy of                  affenpinscher :          4 %\n",
      "Accuracy of                     toy_poodle :          3 %\n",
      "Accuracy of                Tibetan_terrier :          3 %\n",
      "Accuracy of                 French_bulldog :          3 %\n",
      "Accuracy of             Labrador_retriever :          2 %\n",
      "Accuracy of                          boxer :          1 %\n",
      "Accuracy of                         kelpie :          1 %\n",
      "Accuracy of                 English_setter :          1 %\n",
      "Accuracy of              Italian_greyhound :          1 %\n",
      "Accuracy of                standard_poodle :          0 %\n",
      "Mean accuracy: 18.834499 %\n"
     ]
    }
   ],
   "source": [
    "from sklearn.metrics import accuracy_score\n",
    "meanacc = accuracy_score(test_labels, preds)*100\n",
    "classacc = 100*(cm.diagonal()/cm.sum(axis=1))\n",
    "f = open(\"classes.txt\", \"r\")\n",
    "classmap = {}\n",
    "for i in range(120):\n",
    "    classs = f.readline().split(\" \")\n",
    "    classmap[classs[0]] = classacc[i]\n",
    "    \n",
    "sortedmap = sorted(classmap.items(), key=lambda item: item[1], reverse=True)\n",
    "\n",
    "for k, v in sortedmap:\n",
    "    print('Accuracy of %30s : %10d %%' % (k, v))\n",
    "print('Mean accuracy: %5f %%' % meanacc)"
   ]
  },
  {
   "cell_type": "code",
   "execution_count": null,
   "metadata": {},
   "outputs": [],
   "source": [
    "'''\n",
    "IGNORE BELOW, USED FOR PROPROCESSING DATA\n",
    "'''"
   ]
  },
  {
   "cell_type": "code",
   "execution_count": null,
   "metadata": {},
   "outputs": [],
   "source": [
    "# def load_dataset(verbose=False):\n",
    "#     rootDir = 'Images'\n",
    "#     images = np.zeros((1, 1280), dtype=np.uint8)\n",
    "#     labels = np.empty(20580, dtype=object)\n",
    "#     i = 0\n",
    "#     j = 0\n",
    "#     sift = cv2.SIFT_create(10)\n",
    "#     for dirName, subdirList, fileList in os.walk(rootDir):\n",
    "#         #print('Found directory: %s' % dirName)\n",
    "#         if dirName != 'Images':\n",
    "#             l = dirName.split('-')\n",
    "#             label = l[1]\n",
    "# #             if j == 5:\n",
    "# #                 break\n",
    "#             j += 1\n",
    "#             print(label, j)\n",
    "#         count = 0\n",
    "#         for fname in fileList:\n",
    "#             if dirName != 'Images':\n",
    "#                 img = cv2.imread(dirName + '/' + fname, 1)\n",
    "#                 file = open(\"Annotation\\\\\" + dirName.replace('Images\\\\', '') + \"\\\\\" + fname.replace('.jpg', '')).read()\n",
    "#                 bnd = [s.strip() for s in re.findall(r'<bndbox>(.*)</bndbox>', file, re.DOTALL)][0].replace('<', ' ').replace('>', ' ').split()\n",
    "#                 bndbox = [bnd[1], bnd[4], bnd[7], bnd[10]]\n",
    "#                 im3 = img[int(bndbox[1]):int(bndbox[3]), int(bndbox[0]):int(bndbox[2])]\n",
    "#                 im = Image.fromarray(im3)\n",
    "#                 im.save(dirName + '/' + fname)"
   ]
  },
  {
   "cell_type": "code",
   "execution_count": null,
   "metadata": {},
   "outputs": [],
   "source": [
    "# load_dataset()"
   ]
  }
 ],
 "metadata": {
  "kernelspec": {
   "display_name": "Python 3",
   "language": "python",
   "name": "python3"
  },
  "language_info": {
   "codemirror_mode": {
    "name": "ipython",
    "version": 3
   },
   "file_extension": ".py",
   "mimetype": "text/x-python",
   "name": "python",
   "nbconvert_exporter": "python",
   "pygments_lexer": "ipython3",
   "version": "3.8.5"
  }
 },
 "nbformat": 4,
 "nbformat_minor": 4
}
