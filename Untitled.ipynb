{
 "cells": [
  {
   "cell_type": "code",
   "execution_count": null,
   "metadata": {},
   "outputs": [],
   "source": [
    "import os\n",
    "import numpy as np\n",
    "import matplotlib.pyplot as plt\n",
    "import cv2\n",
    "import re\n",
    "import time\n",
    "from PIL import Image\n",
    "from sklearn import svm\n",
    "from sklearn.model_selection import train_test_split"
   ]
  },
  {
   "cell_type": "code",
   "execution_count": 101,
   "metadata": {},
   "outputs": [],
   "source": [
    "def load_dataset(verbose=False):\n",
    "    rootDir = 'Images'\n",
    "    images = np.zeros((1, 160*160*3), dtype=np.uint8)\n",
    "    labels = np.empty(337, dtype=object)\n",
    "    i = 0\n",
    "    j = 0\n",
    "    for dirName, subdirList, fileList in os.walk(rootDir):\n",
    "        #print('Found directory: %s' % dirName)\n",
    "        if dirName != 'Images':\n",
    "            l = dirName.split('-')\n",
    "            label = l[1]\n",
    "            if j == 2:\n",
    "                break\n",
    "            j += 1\n",
    "            print(label)\n",
    "        for fname in fileList:\n",
    "            if dirName != 'Images':\n",
    "                img = cv2.imread(dirName + '/' + fname)\n",
    "                bnd = [s.strip() for s in re.findall(r'<bndbox>(.*)</bndbox>', open(\"Annotation\\\\\" + dirName.replace('Images\\\\', '') + \"\\\\\" + fname.replace('.jpg', '')).read(), re.DOTALL)][0].replace('<', ' ').replace('>', ' ').split()\n",
    "                bndbox = [bnd[1], bnd[4], bnd[7], bnd[10]]\n",
    "                im3 = img[int(bndbox[1]):int(bndbox[3]), int(bndbox[0]):int(bndbox[2]), :]\n",
    "                if verbose == True:\n",
    "                    print(fname, i)\n",
    "                im = cv2.resize(im3, dsize=(160, 160), interpolation=cv2.INTER_CUBIC)\n",
    "                imm = im.flatten().reshape(1, 160*160*3)\n",
    "                images = np.append(images, imm, axis=0)\n",
    "                labels[i] = label\n",
    "                i += 1\n",
    "    return images[1:,:], labels"
   ]
  },
  {
   "cell_type": "code",
   "execution_count": 103,
   "metadata": {},
   "outputs": [
    {
     "name": "stdout",
     "output_type": "stream",
     "text": [
      "Chihuahua\n",
      "Japanese_spaniel\n",
      "['Japanese_spaniel' 'Chihuahua' 'Japanese_spaniel' 'Chihuahua'\n",
      " 'Japanese_spaniel' 'Chihuahua' 'Chihuahua' 'Japanese_spaniel' 'Chihuahua'\n",
      " 'Chihuahua' 'Japanese_spaniel' 'Japanese_spaniel' 'Japanese_spaniel'\n",
      " 'Japanese_spaniel' 'Japanese_spaniel' 'Chihuahua' 'Chihuahua'\n",
      " 'Japanese_spaniel' 'Chihuahua' 'Chihuahua' 'Japanese_spaniel' 'Chihuahua'\n",
      " 'Japanese_spaniel' 'Japanese_spaniel' 'Chihuahua' 'Japanese_spaniel'\n",
      " 'Chihuahua' 'Japanese_spaniel' 'Chihuahua' 'Japanese_spaniel' 'Chihuahua'\n",
      " 'Japanese_spaniel' 'Chihuahua' 'Japanese_spaniel' 'Chihuahua'\n",
      " 'Japanese_spaniel' 'Chihuahua' 'Chihuahua' 'Chihuahua' 'Chihuahua'\n",
      " 'Chihuahua' 'Chihuahua' 'Chihuahua' 'Japanese_spaniel' 'Japanese_spaniel'\n",
      " 'Chihuahua' 'Japanese_spaniel' 'Japanese_spaniel' 'Chihuahua' 'Chihuahua'\n",
      " 'Japanese_spaniel' 'Japanese_spaniel' 'Chihuahua' 'Chihuahua'\n",
      " 'Japanese_spaniel' 'Japanese_spaniel' 'Japanese_spaniel' 'Chihuahua'\n",
      " 'Chihuahua' 'Japanese_spaniel' 'Chihuahua' 'Japanese_spaniel' 'Chihuahua'\n",
      " 'Japanese_spaniel' 'Chihuahua' 'Japanese_spaniel' 'Chihuahua' 'Chihuahua'\n",
      " 'Japanese_spaniel' 'Chihuahua' 'Japanese_spaniel' 'Japanese_spaniel'\n",
      " 'Chihuahua' 'Japanese_spaniel' 'Japanese_spaniel' 'Chihuahua'\n",
      " 'Japanese_spaniel' 'Japanese_spaniel' 'Japanese_spaniel'\n",
      " 'Japanese_spaniel' 'Japanese_spaniel' 'Chihuahua' 'Chihuahua'\n",
      " 'Japanese_spaniel' 'Japanese_spaniel']\n",
      "['Japanese_spaniel' 'Chihuahua' 'Japanese_spaniel' 'Chihuahua'\n",
      " 'Japanese_spaniel' 'Chihuahua' 'Japanese_spaniel' 'Japanese_spaniel'\n",
      " 'Chihuahua' 'Chihuahua' 'Japanese_spaniel' 'Japanese_spaniel' 'Chihuahua'\n",
      " 'Japanese_spaniel' 'Japanese_spaniel' 'Japanese_spaniel' 'Chihuahua'\n",
      " 'Japanese_spaniel' 'Chihuahua' 'Japanese_spaniel' 'Japanese_spaniel'\n",
      " 'Chihuahua' 'Chihuahua' 'Japanese_spaniel' 'Chihuahua' 'Japanese_spaniel'\n",
      " 'Chihuahua' 'Chihuahua' 'Chihuahua' 'Japanese_spaniel' 'Japanese_spaniel'\n",
      " 'Japanese_spaniel' 'Chihuahua' 'Japanese_spaniel' 'Chihuahua'\n",
      " 'Japanese_spaniel' 'Chihuahua' 'Chihuahua' 'Japanese_spaniel' 'Chihuahua'\n",
      " 'Chihuahua' 'Chihuahua' 'Chihuahua' 'Japanese_spaniel' 'Japanese_spaniel'\n",
      " 'Chihuahua' 'Chihuahua' 'Japanese_spaniel' 'Chihuahua' 'Chihuahua'\n",
      " 'Japanese_spaniel' 'Chihuahua' 'Chihuahua' 'Japanese_spaniel' 'Chihuahua'\n",
      " 'Japanese_spaniel' 'Japanese_spaniel' 'Chihuahua' 'Chihuahua'\n",
      " 'Japanese_spaniel' 'Chihuahua' 'Japanese_spaniel' 'Chihuahua' 'Chihuahua'\n",
      " 'Chihuahua' 'Japanese_spaniel' 'Japanese_spaniel' 'Chihuahua'\n",
      " 'Japanese_spaniel' 'Chihuahua' 'Japanese_spaniel' 'Japanese_spaniel'\n",
      " 'Chihuahua' 'Chihuahua' 'Japanese_spaniel' 'Chihuahua' 'Japanese_spaniel'\n",
      " 'Japanese_spaniel' 'Japanese_spaniel' 'Japanese_spaniel' 'Chihuahua'\n",
      " 'Japanese_spaniel' 'Chihuahua' 'Japanese_spaniel' 'Japanese_spaniel']\n"
     ]
    }
   ],
   "source": [
    "def main():\n",
    "    \"\"\" Main program \"\"\"\n",
    "    # Code goes over here.\n",
    "    Images, Labels = load_dataset()\n",
    "    train_x, test_x, train_y, test_y = train_test_split(Images, Labels)\n",
    "    clf = svm.SVC()\n",
    "    \n",
    "    clf.fit(train_x, train_y)\n",
    "    preds = clf.predict(test_x)\n",
    "    print(preds)\n",
    "    print(test_y)\n",
    "    return 0\n",
    "\n",
    "if __name__ == \"__main__\":\n",
    "    main()"
   ]
  },
  {
   "cell_type": "code",
   "execution_count": null,
   "metadata": {},
   "outputs": [],
   "source": []
  }
 ],
 "metadata": {
  "kernelspec": {
   "display_name": "Python 3",
   "language": "python",
   "name": "python3"
  },
  "language_info": {
   "codemirror_mode": {
    "name": "ipython",
    "version": 3
   },
   "file_extension": ".py",
   "mimetype": "text/x-python",
   "name": "python",
   "nbconvert_exporter": "python",
   "pygments_lexer": "ipython3",
   "version": "3.8.5"
  }
 },
 "nbformat": 4,
 "nbformat_minor": 4
}
