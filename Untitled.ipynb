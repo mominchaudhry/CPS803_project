{
 "cells": [
  {
   "cell_type": "code",
   "execution_count": 107,
   "metadata": {},
   "outputs": [],
   "source": [
    "import os\n",
    "import numpy as np\n",
    "import matplotlib.pyplot as plt\n",
    "import cv2\n",
    "import re\n",
    "import time\n",
    "from PIL import Image\n",
    "from sklearn import svm\n",
    "from sklearn.model_selection import train_test_split\n",
    "Images = np.zeros((20580, 160*160*3))\n",
    "Labels = np.empty(20580, dtype=object)"
   ]
  },
  {
   "cell_type": "code",
   "execution_count": 108,
   "metadata": {},
   "outputs": [],
   "source": [
    "def load_dataset(verbose=False):\n",
    "    rootDir = 'Images'\n",
    "    images = np.zeros((1, 160*160*3), dtype=np.uint8)\n",
    "    labels = np.empty(20580, dtype=object)\n",
    "    i = 0\n",
    "    j = 0\n",
    "    for dirName, subdirList, fileList in os.walk(rootDir):\n",
    "        #print('Found directory: %s' % dirName)\n",
    "        if dirName != 'Images':\n",
    "            l = dirName.split('-')\n",
    "            label = l[1]\n",
    "#             if j == 2:\n",
    "#                 break\n",
    "#             j += 1\n",
    "            print(label)\n",
    "        for fname in fileList:\n",
    "            if dirName != 'Images':\n",
    "                img = cv2.imread(dirName + '/' + fname)\n",
    "                bnd = [s.strip() for s in re.findall(r'<bndbox>(.*)</bndbox>', open(\"Annotation\\\\\" + dirName.replace('Images\\\\', '') + \"\\\\\" + fname.replace('.jpg', '')).read(), re.DOTALL)][0].replace('<', ' ').replace('>', ' ').split()\n",
    "                bndbox = [bnd[1], bnd[4], bnd[7], bnd[10]]\n",
    "                im3 = img[int(bndbox[1]):int(bndbox[3]), int(bndbox[0]):int(bndbox[2]), :]\n",
    "                if verbose == True:\n",
    "                    print(fname, i)\n",
    "                im = cv2.resize(im3, dsize=(160, 160), interpolation=cv2.INTER_CUBIC)\n",
    "                imm = im.flatten().reshape(1, 160*160*3)\n",
    "                images = np.append(images, imm, axis=0)\n",
    "                labels[i] = label\n",
    "                i += 1\n",
    "    return images[1:,:], labels"
   ]
  },
  {
   "cell_type": "code",
   "execution_count": null,
   "metadata": {},
   "outputs": [
    {
     "name": "stdout",
     "output_type": "stream",
     "text": [
      "Chihuahua\n",
      "Japanese_spaniel\n",
      "Maltese_dog\n",
      "Pekinese\n",
      "Shih_Tzu\n",
      "Blenheim_spaniel\n",
      "papillon\n",
      "toy_terrier\n",
      "Rhodesian_ridgeback\n",
      "Afghan_hound\n",
      "basset\n",
      "beagle\n",
      "bloodhound\n",
      "bluetick\n",
      "black_and_tan_coonhound\n",
      "Walker_hound\n",
      "English_foxhound\n",
      "redbone\n",
      "borzoi\n",
      "Irish_wolfhound\n",
      "Italian_greyhound\n",
      "whippet\n",
      "Ibizan_hound\n",
      "Norwegian_elkhound\n",
      "otterhound\n",
      "Saluki\n",
      "Scottish_deerhound\n",
      "Weimaraner\n",
      "Staffordshire_bullterrier\n",
      "American_Staffordshire_terrier\n",
      "Bedlington_terrier\n",
      "Border_terrier\n",
      "Kerry_blue_terrier\n",
      "Irish_terrier\n",
      "Norfolk_terrier\n",
      "Norwich_terrier\n",
      "Yorkshire_terrier\n",
      "wire_haired_fox_terrier\n",
      "Lakeland_terrier\n",
      "Sealyham_terrier\n",
      "Airedale\n",
      "cairn\n",
      "Australian_terrier\n",
      "Dandie_Dinmont\n",
      "Boston_bull\n",
      "miniature_schnauzer\n",
      "giant_schnauzer\n",
      "standard_schnauzer\n",
      "Scotch_terrier\n",
      "Tibetan_terrier\n",
      "silky_terrier\n",
      "soft_coated_wheaten_terrier\n",
      "West_Highland_white_terrier\n",
      "Lhasa\n",
      "flat_coated_retriever\n",
      "curly_coated_retriever\n",
      "golden_retriever\n",
      "Labrador_retriever\n"
     ]
    }
   ],
   "source": [
    "Images, Labels = load_dataset()"
   ]
  },
  {
   "cell_type": "code",
   "execution_count": null,
   "metadata": {},
   "outputs": [],
   "source": [
    "train_x, test_x, train_y, test_y = train_test_split(Images, Labels, test_size=0.1)\n",
    "clf = svm.SVC()\n",
    "    \n",
    "clf.fit(train_x, train_y)\n",
    "preds = clf.predict(test_x)\n",
    "print(preds)\n",
    "print(test_y)"
   ]
  }
 ],
 "metadata": {
  "kernelspec": {
   "display_name": "Python 3",
   "language": "python",
   "name": "python3"
  },
  "language_info": {
   "codemirror_mode": {
    "name": "ipython",
    "version": 3
   },
   "file_extension": ".py",
   "mimetype": "text/x-python",
   "name": "python",
   "nbconvert_exporter": "python",
   "pygments_lexer": "ipython3",
   "version": "3.8.5"
  }
 },
 "nbformat": 4,
 "nbformat_minor": 4
}
