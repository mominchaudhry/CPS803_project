{
 "cells": [
  {
   "cell_type": "code",
   "execution_count": 11,
   "metadata": {},
   "outputs": [],
   "source": [
    "from sklearn.cluster import KMeans\n",
    "from scipy.io import loadmat\n",
    "import numpy as np"
   ]
  },
  {
   "cell_type": "code",
   "execution_count": 12,
   "metadata": {},
   "outputs": [
    {
     "name": "stdout",
     "output_type": "stream",
     "text": [
      "(12000, 12000)\n"
     ]
    }
   ],
   "source": [
    "mat = loadmat('train_data.mat')\n",
    "train_data = mat['train_data']\n",
    "train_labels = mat['train_info'][0, 0]['labels'].reshape(12000, )\n",
    "#print(train_data.shape, train_labels.shape)\n",
    "print(train_data.shape)"
   ]
  },
  {
   "cell_type": "code",
   "execution_count": 13,
   "metadata": {},
   "outputs": [
    {
     "name": "stdout",
     "output_type": "stream",
     "text": [
      "(8580, 12000)\n"
     ]
    }
   ],
   "source": [
    "mat1 = loadmat('test_data.mat')\n",
    "test_data = mat1['test_data']\n",
    "test_labels = mat1['test_info'][0, 0]['labels'].reshape(len(test_data), )\n",
    "#print(test_data.shape, test_labels.shape)\n",
    "print(test_data.shape)"
   ]
  },
  {
   "cell_type": "code",
   "execution_count": 18,
   "metadata": {},
   "outputs": [
    {
     "data": {
      "text/plain": [
       "array([94,  4, 58, ..., 60, 61, 84])"
      ]
     },
     "execution_count": 18,
     "metadata": {},
     "output_type": "execute_result"
    }
   ],
   "source": [
    "kmeans = KMeans(n_clusters=120, max_iter=10000, algorithm='full').fit(train_data)\n",
    "kmeans.labels_"
   ]
  },
  {
   "cell_type": "code",
   "execution_count": 19,
   "metadata": {},
   "outputs": [],
   "source": [
    "preds = kmeans.predict(test_data)"
   ]
  },
  {
   "cell_type": "code",
   "execution_count": 33,
   "metadata": {},
   "outputs": [],
   "source": [
    "from sklearn.metrics import confusion_matrix\n",
    "cm = confusion_matrix(test_labels, preds)\n",
    "np.savetxt('confusion.txt', cm)"
   ]
  },
  {
   "cell_type": "code",
   "execution_count": 36,
   "metadata": {},
   "outputs": [
    {
     "name": "stdout",
     "output_type": "stream",
     "text": [
      "Accuracy of       Chesapeake_Bay_retriever :          4 %\n",
      "Accuracy of             Kerry_blue_terrier :          4 %\n",
      "Accuracy of                        clumber :          3 %\n",
      "Accuracy of                     bloodhound :          3 %\n",
      "Accuracy of                     Eskimo_dog :          2 %\n",
      "Accuracy of              Italian_greyhound :          2 %\n",
      "Accuracy of            miniature_schnauzer :          2 %\n",
      "Accuracy of             Australian_terrier :          2 %\n",
      "Accuracy of                         briard :          1 %\n",
      "Accuracy of                     Rottweiler :          1 %\n",
      "Accuracy of                   bull_mastiff :          1 %\n",
      "Accuracy of               miniature_poodle :          1 %\n",
      "Accuracy of               Japanese_spaniel :          1 %\n",
      "Accuracy of                 French_bulldog :          1 %\n",
      "Accuracy of                 English_setter :          1 %\n",
      "Accuracy of                 Scotch_terrier :          1 %\n",
      "Accuracy of    West_Highland_white_terrier :          1 %\n",
      "Accuracy of                  Saint_Bernard :          1 %\n",
      "Accuracy of                         collie :          1 %\n",
      "Accuracy of              Brabancon_griffon :          1 %\n",
      "Accuracy of                    Appenzeller :          1 %\n",
      "Accuracy of                           chow :          1 %\n",
      "Accuracy of        wire_haired_fox_terrier :          1 %\n",
      "Accuracy of                Norfolk_terrier :          1 %\n",
      "Accuracy of                   Afghan_hound :          1 %\n",
      "Accuracy of                 Siberian_husky :          1 %\n",
      "Accuracy of                  Irish_terrier :          1 %\n",
      "Accuracy of                    Boston_bull :          1 %\n",
      "Accuracy of              Yorkshire_terrier :          1 %\n",
      "Accuracy of          flat_coated_retriever :          1 %\n",
      "Accuracy of                       bluetick :          1 %\n",
      "Accuracy of                   Ibizan_hound :          1 %\n",
      "Accuracy of                    toy_terrier :          1 %\n",
      "Accuracy of                       keeshond :          1 %\n",
      "Accuracy of               Sealyham_terrier :          1 %\n",
      "Accuracy of                       Leonberg :          0 %\n",
      "Accuracy of                          cairn :          0 %\n",
      "Accuracy of                  silky_terrier :          0 %\n",
      "Accuracy of                   Newfoundland :          0 %\n",
      "Accuracy of               Blenheim_spaniel :          0 %\n",
      "Accuracy of                     Pomeranian :          0 %\n",
      "Accuracy of                      Chihuahua :          0 %\n",
      "Accuracy of                    Maltese_dog :          0 %\n",
      "Accuracy of                       Pekinese :          0 %\n",
      "Accuracy of                       Shih_Tzu :          0 %\n",
      "Accuracy of                       papillon :          0 %\n",
      "Accuracy of            Rhodesian_ridgeback :          0 %\n",
      "Accuracy of                         basset :          0 %\n",
      "Accuracy of                         beagle :          0 %\n",
      "Accuracy of        black_and_tan_coonhound :          0 %\n",
      "Accuracy of                   Walker_hound :          0 %\n",
      "Accuracy of               English_foxhound :          0 %\n",
      "Accuracy of                        redbone :          0 %\n",
      "Accuracy of                         borzoi :          0 %\n",
      "Accuracy of                Irish_wolfhound :          0 %\n",
      "Accuracy of                        whippet :          0 %\n",
      "Accuracy of             Norwegian_elkhound :          0 %\n",
      "Accuracy of                     otterhound :          0 %\n",
      "Accuracy of                         Saluki :          0 %\n",
      "Accuracy of             Scottish_deerhound :          0 %\n",
      "Accuracy of                     Weimaraner :          0 %\n",
      "Accuracy of      Staffordshire_bullterrier :          0 %\n",
      "Accuracy of American_Staffordshire_terrier :          0 %\n",
      "Accuracy of             Bedlington_terrier :          0 %\n",
      "Accuracy of                 Border_terrier :          0 %\n",
      "Accuracy of                Norwich_terrier :          0 %\n",
      "Accuracy of               Lakeland_terrier :          0 %\n",
      "Accuracy of                       Airedale :          0 %\n",
      "Accuracy of                 Dandie_Dinmont :          0 %\n",
      "Accuracy of                giant_schnauzer :          0 %\n",
      "Accuracy of             standard_schnauzer :          0 %\n",
      "Accuracy of                Tibetan_terrier :          0 %\n",
      "Accuracy of    soft_coated_wheaten_terrier :          0 %\n",
      "Accuracy of                          Lhasa :          0 %\n",
      "Accuracy of         curly_coated_retriever :          0 %\n",
      "Accuracy of               golden_retriever :          0 %\n",
      "Accuracy of             Labrador_retriever :          0 %\n",
      "Accuracy of    German_short_haired_pointer :          0 %\n",
      "Accuracy of                         vizsla :          0 %\n",
      "Accuracy of                   Irish_setter :          0 %\n",
      "Accuracy of                  Gordon_setter :          0 %\n",
      "Accuracy of               Brittany_spaniel :          0 %\n",
      "Accuracy of               English_springer :          0 %\n",
      "Accuracy of         Welsh_springer_spaniel :          0 %\n",
      "Accuracy of                 cocker_spaniel :          0 %\n",
      "Accuracy of                 Sussex_spaniel :          0 %\n",
      "Accuracy of            Irish_water_spaniel :          0 %\n",
      "Accuracy of                         kuvasz :          0 %\n",
      "Accuracy of                     schipperke :          0 %\n",
      "Accuracy of                    groenendael :          0 %\n",
      "Accuracy of                       malinois :          0 %\n",
      "Accuracy of                         kelpie :          0 %\n",
      "Accuracy of                       komondor :          0 %\n",
      "Accuracy of           Old_English_sheepdog :          0 %\n",
      "Accuracy of              Shetland_sheepdog :          0 %\n",
      "Accuracy of                  Border_collie :          0 %\n",
      "Accuracy of           Bouvier_des_Flandres :          0 %\n",
      "Accuracy of                German_shepherd :          0 %\n",
      "Accuracy of                       Doberman :          0 %\n",
      "Accuracy of             miniature_pinscher :          0 %\n",
      "Accuracy of     Greater_Swiss_Mountain_dog :          0 %\n",
      "Accuracy of           Bernese_mountain_dog :          0 %\n",
      "Accuracy of                    EntleBucher :          0 %\n",
      "Accuracy of                          boxer :          0 %\n",
      "Accuracy of                Tibetan_mastiff :          0 %\n",
      "Accuracy of                     Great_Dane :          0 %\n",
      "Accuracy of                       malamute :          0 %\n",
      "Accuracy of                  affenpinscher :          0 %\n",
      "Accuracy of                        basenji :          0 %\n",
      "Accuracy of                            pug :          0 %\n",
      "Accuracy of                 Great_Pyrenees :          0 %\n",
      "Accuracy of                        Samoyed :          0 %\n",
      "Accuracy of                       Pembroke :          0 %\n",
      "Accuracy of                       Cardigan :          0 %\n",
      "Accuracy of                     toy_poodle :          0 %\n",
      "Accuracy of                standard_poodle :          0 %\n",
      "Accuracy of               Mexican_hairless :          0 %\n",
      "Accuracy of                          dingo :          0 %\n",
      "Accuracy of                          dhole :          0 %\n",
      "Accuracy of            African_hunting_dog :          0 %\n",
      "Mean accuracy: 0.641026 %\n"
     ]
    }
   ],
   "source": [
    "from sklearn.metrics import accuracy_score\n",
    "meanacc = accuracy_score(test_labels, preds)*100\n",
    "classacc = 100*(cm.diagonal()/(cm.sum(axis=1)+0.01))\n",
    "f = open(\"classes.txt\", \"r\")\n",
    "classmap = {}\n",
    "for i in range(120):\n",
    "    classs = f.readline().split(\" \")\n",
    "    classmap[classs[0]] = classacc[i]\n",
    "    \n",
    "sortedmap = sorted(classmap.items(), key=lambda item: item[1], reverse=True)\n",
    "\n",
    "for k, v in sortedmap:\n",
    "    print('Accuracy of %30s : %10d %%' % (k, v))\n",
    "print('Mean accuracy: %5f %%' % meanacc)"
   ]
  },
  {
   "cell_type": "code",
   "execution_count": null,
   "metadata": {},
   "outputs": [],
   "source": [
    "\"\"\"\n",
    "\n",
    "BELOW IS K-NEAREST-NEIGHBORS ALGORITHM\n",
    "\n",
    "\"\"\""
   ]
  },
  {
   "cell_type": "code",
   "execution_count": 8,
   "metadata": {},
   "outputs": [
    {
     "data": {
      "text/plain": [
       "KNeighborsClassifier(n_neighbors=1)"
      ]
     },
     "execution_count": 8,
     "metadata": {},
     "output_type": "execute_result"
    }
   ],
   "source": [
    "from sklearn.neighbors import KNeighborsClassifier\n",
    "neigh = KNeighborsClassifier(n_neighbors=1)\n",
    "neigh.fit(train_data, train_labels)"
   ]
  },
  {
   "cell_type": "code",
   "execution_count": 9,
   "metadata": {},
   "outputs": [],
   "source": [
    "preds = neigh.predict(test_data)"
   ]
  },
  {
   "cell_type": "code",
   "execution_count": 10,
   "metadata": {},
   "outputs": [
    {
     "name": "stdout",
     "output_type": "stream",
     "text": [
      "Mean accuracy: 6.351981 %\n"
     ]
    }
   ],
   "source": [
    "from sklearn.metrics import accuracy_score\n",
    "meanacc = accuracy_score(test_labels, preds)*100\n",
    "print('Mean accuracy: %5f %%' % meanacc)"
   ]
  },
  {
   "cell_type": "code",
   "execution_count": null,
   "metadata": {},
   "outputs": [],
   "source": []
  }
 ],
 "metadata": {
  "kernelspec": {
   "display_name": "Python 3",
   "language": "python",
   "name": "python3"
  },
  "language_info": {
   "codemirror_mode": {
    "name": "ipython",
    "version": 3
   },
   "file_extension": ".py",
   "mimetype": "text/x-python",
   "name": "python",
   "nbconvert_exporter": "python",
   "pygments_lexer": "ipython3",
   "version": "3.8.5"
  }
 },
 "nbformat": 4,
 "nbformat_minor": 4
}
