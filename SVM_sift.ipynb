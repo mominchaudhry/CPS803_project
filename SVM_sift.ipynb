{
 "cells": [
  {
   "cell_type": "code",
   "execution_count": 1,
   "metadata": {},
   "outputs": [],
   "source": [
    "import os\n",
    "import numpy as np\n",
    "import matplotlib.pyplot as plt\n",
    "import cv2\n",
    "import re\n",
    "import time\n",
    "from PIL import Image\n",
    "from sklearn import svm\n",
    "from sklearn.model_selection import train_test_split"
   ]
  },
  {
   "cell_type": "code",
   "execution_count": 2,
   "metadata": {},
   "outputs": [
    {
     "name": "stdout",
     "output_type": "stream",
     "text": [
      "(12000, 5376) (12000,)\n"
     ]
    }
   ],
   "source": [
    "from scipy.io import loadmat\n",
    "mat = loadmat('train_data.mat')\n",
    "train_data = mat['train_fg_data']\n",
    "train_labels = mat['train_info'][0, 0]['labels'].reshape(12000, )\n",
    "print(train_data.shape, train_labels.shape)"
   ]
  },
  {
   "cell_type": "code",
   "execution_count": 3,
   "metadata": {},
   "outputs": [
    {
     "name": "stdout",
     "output_type": "stream",
     "text": [
      "(8580, 5376) (8580,)\n"
     ]
    }
   ],
   "source": [
    "mat1 = loadmat('test_data.mat')\n",
    "test_data = mat1['test_fg_data']\n",
    "test_labels = mat1['test_info'][0, 0]['labels'].reshape(len(test_data), )\n",
    "print(test_data.shape, test_labels.shape)"
   ]
  },
  {
   "cell_type": "code",
   "execution_count": 4,
   "metadata": {},
   "outputs": [],
   "source": [
    "clf = svm.SVC()\n",
    "clf.fit(train_data, train_labels)\n",
    "preds = clf.predict(test_data)"
   ]
  },
  {
   "cell_type": "code",
   "execution_count": 9,
   "metadata": {},
   "outputs": [
    {
     "name": "stdout",
     "output_type": "stream",
     "text": [
      "Accuracy of               Sealyham_terrier :         50 %\n",
      "Accuracy of                          dhole :         50 %\n",
      "Accuracy of                    groenendael :         48 %\n",
      "Accuracy of            African_hunting_dog :         47 %\n",
      "Accuracy of     Greater_Swiss_Mountain_dog :         47 %\n",
      "Accuracy of                        Samoyed :         45 %\n",
      "Accuracy of            Irish_water_spaniel :         44 %\n",
      "Accuracy of                   Afghan_hound :         38 %\n",
      "Accuracy of                       komondor :         37 %\n",
      "Accuracy of                         vizsla :         35 %\n",
      "Accuracy of                       keeshond :         34 %\n",
      "Accuracy of                  silky_terrier :         33 %\n",
      "Accuracy of                 Sussex_spaniel :         33 %\n",
      "Accuracy of                       Leonberg :         31 %\n",
      "Accuracy of                    EntleBucher :         31 %\n",
      "Accuracy of                     Rottweiler :         30 %\n",
      "Accuracy of                           chow :         30 %\n",
      "Accuracy of              Brabancon_griffon :         28 %\n",
      "Accuracy of               Japanese_spaniel :         28 %\n",
      "Accuracy of             Scottish_deerhound :         28 %\n",
      "Accuracy of             miniature_pinscher :         27 %\n",
      "Accuracy of                   Irish_setter :         27 %\n",
      "Accuracy of                Norwich_terrier :         27 %\n",
      "Accuracy of               English_foxhound :         26 %\n",
      "Accuracy of           Bouvier_des_Flandres :         26 %\n",
      "Accuracy of                     schipperke :         25 %\n",
      "Accuracy of                  Saint_Bernard :         25 %\n",
      "Accuracy of               Mexican_hairless :         25 %\n",
      "Accuracy of                     Pomeranian :         24 %\n",
      "Accuracy of             Kerry_blue_terrier :         24 %\n",
      "Accuracy of                        clumber :         24 %\n",
      "Accuracy of                       malinois :         24 %\n",
      "Accuracy of           Bernese_mountain_dog :         23 %\n",
      "Accuracy of                     otterhound :         23 %\n",
      "Accuracy of                     bloodhound :         22 %\n",
      "Accuracy of                Norfolk_terrier :         22 %\n",
      "Accuracy of         Welsh_springer_spaniel :         22 %\n",
      "Accuracy of                         kuvasz :         22 %\n",
      "Accuracy of         curly_coated_retriever :         21 %\n",
      "Accuracy of                giant_schnauzer :         21 %\n",
      "Accuracy of                       Airedale :         20 %\n",
      "Accuracy of    West_Highland_white_terrier :         20 %\n",
      "Accuracy of                 Dandie_Dinmont :         20 %\n",
      "Accuracy of                         borzoi :         19 %\n",
      "Accuracy of               Blenheim_spaniel :         19 %\n",
      "Accuracy of                      Chihuahua :         19 %\n",
      "Accuracy of           Old_English_sheepdog :         18 %\n",
      "Accuracy of                        redbone :         18 %\n",
      "Accuracy of                       Pembroke :         18 %\n",
      "Accuracy of    soft_coated_wheaten_terrier :         17 %\n",
      "Accuracy of                    Appenzeller :         17 %\n",
      "Accuracy of                    Maltese_dog :         16 %\n",
      "Accuracy of                   bull_mastiff :         16 %\n",
      "Accuracy of             Bedlington_terrier :         15 %\n",
      "Accuracy of    German_short_haired_pointer :         15 %\n",
      "Accuracy of                        whippet :         14 %\n",
      "Accuracy of                   Ibizan_hound :         14 %\n",
      "Accuracy of                       papillon :         14 %\n",
      "Accuracy of             Australian_terrier :         14 %\n",
      "Accuracy of        wire_haired_fox_terrier :         14 %\n",
      "Accuracy of                 Scotch_terrier :         13 %\n",
      "Accuracy of                        basenji :         13 %\n",
      "Accuracy of                  Irish_terrier :         13 %\n",
      "Accuracy of                         Saluki :         12 %\n",
      "Accuracy of               golden_retriever :         12 %\n",
      "Accuracy of                     Weimaraner :         11 %\n",
      "Accuracy of                       malamute :         11 %\n",
      "Accuracy of             Norwegian_elkhound :         11 %\n",
      "Accuracy of                  Gordon_setter :         11 %\n",
      "Accuracy of                 Border_terrier :         11 %\n",
      "Accuracy of             standard_schnauzer :         10 %\n",
      "Accuracy of                     Great_Dane :         10 %\n",
      "Accuracy of                   Newfoundland :         10 %\n",
      "Accuracy of                          Lhasa :         10 %\n",
      "Accuracy of               Lakeland_terrier :         10 %\n",
      "Accuracy of                       Pekinese :         10 %\n",
      "Accuracy of               English_springer :         10 %\n",
      "Accuracy of                  Border_collie :         10 %\n",
      "Accuracy of                    Boston_bull :          9 %\n",
      "Accuracy of                 Great_Pyrenees :          9 %\n",
      "Accuracy of                German_shepherd :          9 %\n",
      "Accuracy of                         collie :          9 %\n",
      "Accuracy of      Staffordshire_bullterrier :          9 %\n",
      "Accuracy of                       Cardigan :          9 %\n",
      "Accuracy of                       Shih_Tzu :          8 %\n",
      "Accuracy of        black_and_tan_coonhound :          8 %\n",
      "Accuracy of                    toy_terrier :          8 %\n",
      "Accuracy of            Rhodesian_ridgeback :          8 %\n",
      "Accuracy of               Brittany_spaniel :          7 %\n",
      "Accuracy of                         briard :          7 %\n",
      "Accuracy of                   Walker_hound :          7 %\n",
      "Accuracy of       Chesapeake_Bay_retriever :          7 %\n",
      "Accuracy of                          dingo :          7 %\n",
      "Accuracy of                         basset :          6 %\n",
      "Accuracy of                         beagle :          6 %\n",
      "Accuracy of                          cairn :          6 %\n",
      "Accuracy of                       Doberman :          6 %\n",
      "Accuracy of                            pug :          6 %\n",
      "Accuracy of                Tibetan_terrier :          5 %\n",
      "Accuracy of               miniature_poodle :          5 %\n",
      "Accuracy of                 cocker_spaniel :          5 %\n",
      "Accuracy of              Yorkshire_terrier :          4 %\n",
      "Accuracy of                 Siberian_husky :          4 %\n",
      "Accuracy of                Irish_wolfhound :          4 %\n",
      "Accuracy of                       bluetick :          4 %\n",
      "Accuracy of                  affenpinscher :          4 %\n",
      "Accuracy of                     toy_poodle :          3 %\n",
      "Accuracy of          flat_coated_retriever :          3 %\n",
      "Accuracy of                         kelpie :          3 %\n",
      "Accuracy of American_Staffordshire_terrier :          3 %\n",
      "Accuracy of             Labrador_retriever :          2 %\n",
      "Accuracy of                     Eskimo_dog :          2 %\n",
      "Accuracy of                Tibetan_mastiff :          1 %\n",
      "Accuracy of            miniature_schnauzer :          1 %\n",
      "Accuracy of              Shetland_sheepdog :          1 %\n",
      "Accuracy of              Italian_greyhound :          1 %\n",
      "Accuracy of                 English_setter :          0 %\n",
      "Accuracy of                          boxer :          0 %\n",
      "Accuracy of                 French_bulldog :          0 %\n",
      "Accuracy of                standard_poodle :          0 %\n",
      "Mean accuracy: 17.261072 %\n"
     ]
    }
   ],
   "source": [
    "from sklearn.metrics import accuracy_score\n",
    "from sklearn.metrics import confusion_matrix\n",
    "cm = confusion_matrix(test_labels, preds)\n",
    "np.savetxt('svm_sift_confusion.txt', cm)\n",
    "\n",
    "meanacc = accuracy_score(test_labels, preds)*100\n",
    "classacc = 100*(cm.diagonal()/cm.sum(axis=1))\n",
    "f = open(\"classes.txt\", \"r\")\n",
    "classmap = {}\n",
    "for i in range(120):\n",
    "    classs = f.readline().split(\" \")\n",
    "    classmap[classs[0]] = classacc[i]\n",
    "    \n",
    "sortedmap = sorted(classmap.items(), key=lambda item: item[1], reverse=True)\n",
    "\n",
    "for k, v in sortedmap:\n",
    "    print('Accuracy of %30s : %10d %%' % (k, v))\n",
    "print('Mean accuracy: %5f %%' % meanacc)"
   ]
  },
  {
   "cell_type": "code",
   "execution_count": null,
   "metadata": {},
   "outputs": [],
   "source": []
  }
 ],
 "metadata": {
  "kernelspec": {
   "display_name": "Python 3",
   "language": "python",
   "name": "python3"
  },
  "language_info": {
   "codemirror_mode": {
    "name": "ipython",
    "version": 3
   },
   "file_extension": ".py",
   "mimetype": "text/x-python",
   "name": "python",
   "nbconvert_exporter": "python",
   "pygments_lexer": "ipython3",
   "version": "3.8.5"
  }
 },
 "nbformat": 4,
 "nbformat_minor": 4
}
