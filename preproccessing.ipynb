{
 "cells": [
  {
   "cell_type": "code",
   "execution_count": null,
   "metadata": {},
   "outputs": [],
   "source": [
    "# def load_dataset(verbose=False):\n",
    "#     rootDir = 'Images'\n",
    "#     images = np.zeros((1, 1280), dtype=np.uint8)\n",
    "#     labels = np.empty(20580, dtype=object)\n",
    "#     i = 0\n",
    "#     j = 0\n",
    "#     sift = cv2.SIFT_create(10)\n",
    "#     for dirName, subdirList, fileList in os.walk(rootDir):\n",
    "#         #print('Found directory: %s' % dirName)\n",
    "#         if dirName != 'Images':\n",
    "#             l = dirName.split('-')\n",
    "#             label = l[1]\n",
    "# #             if j == 5:\n",
    "# #                 break\n",
    "#             j += 1\n",
    "#             print(label, j)\n",
    "#         count = 0\n",
    "#         for fname in fileList:\n",
    "#             if dirName != 'Images':\n",
    "#                 img = cv2.imread(dirName + '/' + fname, 1)\n",
    "#                 file = open(\"Annotation\\\\\" + dirName.replace('Images\\\\', '') + \"\\\\\" + fname.replace('.jpg', '')).read()\n",
    "#                 bnd = [s.strip() for s in re.findall(r'<bndbox>(.*)</bndbox>', file, re.DOTALL)][0].replace('<', ' ').replace('>', ' ').split()\n",
    "#                 bndbox = [bnd[1], bnd[4], bnd[7], bnd[10]]\n",
    "#                 im3 = img[int(bndbox[1]):int(bndbox[3]), int(bndbox[0]):int(bndbox[2])]\n",
    "#                 im = Image.fromarray(im3)\n",
    "#                 im.save(dirName + '/' + fname)\n",
    "# load_dataset()"
   ]
  }
 ],
 "metadata": {
  "kernelspec": {
   "display_name": "Python 3",
   "language": "python",
   "name": "python3"
  },
  "language_info": {
   "codemirror_mode": {
    "name": "ipython",
    "version": 3
   },
   "file_extension": ".py",
   "mimetype": "text/x-python",
   "name": "python",
   "nbconvert_exporter": "python",
   "pygments_lexer": "ipython3",
   "version": "3.8.5"
  }
 },
 "nbformat": 4,
 "nbformat_minor": 4
}
