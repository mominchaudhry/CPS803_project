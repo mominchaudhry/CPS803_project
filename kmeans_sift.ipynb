{
 "cells": [
  {
   "cell_type": "code",
   "execution_count": 1,
   "metadata": {},
   "outputs": [],
   "source": [
    "from sklearn.cluster import KMeans\n",
    "from scipy.io import loadmat\n",
    "import numpy as np"
   ]
  },
  {
   "cell_type": "code",
   "execution_count": 14,
   "metadata": {},
   "outputs": [
    {
     "name": "stdout",
     "output_type": "stream",
     "text": [
      "(12000, 5376)\n"
     ]
    }
   ],
   "source": [
    "mat = loadmat('train_data.mat')\n",
    "train_data = mat['train_fg_data']\n",
    "train_labels = mat['train_info'][0, 0]['labels'].reshape(12000, )\n",
    "#print(train_data.shape, train_labels.shape)\n",
    "print(train_data.shape)"
   ]
  },
  {
   "cell_type": "code",
   "execution_count": 15,
   "metadata": {},
   "outputs": [
    {
     "name": "stdout",
     "output_type": "stream",
     "text": [
      "(8580, 5376)\n"
     ]
    }
   ],
   "source": [
    "mat1 = loadmat('test_data.mat')\n",
    "test_data = mat1['test_fg_data']\n",
    "test_labels = mat1['test_info'][0, 0]['labels'].reshape(len(test_data), )\n",
    "#print(test_data.shape, test_labels.shape)\n",
    "print(test_data.shape)"
   ]
  },
  {
   "cell_type": "code",
   "execution_count": 16,
   "metadata": {},
   "outputs": [],
   "source": [
    "kmeans = KMeans(n_clusters=120).fit(train_data) # , max_iter=10000, algorithm='full'\n",
    "trainl = kmeans.labels_\n",
    "testl = kmeans.predict(test_data)\n",
    "\n",
    "from sklearn import svm\n",
    "s = svm.SVC()\n",
    "s.fit(train_data, trainl)\n",
    "preds = s.predict(test_data)"
   ]
  },
  {
   "cell_type": "code",
   "execution_count": 17,
   "metadata": {},
   "outputs": [],
   "source": [
    "import matplotlib.pyplot as plt\n",
    "from sklearn.metrics import plot_confusion_matrix\n",
    "from sklearn.metrics import confusion_matrix\n",
    "cm = confusion_matrix(preds, test_labels)\n",
    "m = np.zeros(120)\n",
    "max = 0\n",
    "for i in range(len(cm)):\n",
    "    max = 0\n",
    "    for j in range(len(cm.T)):\n",
    "        curr = cm[i][j]\n",
    "        if curr > max:\n",
    "            max = curr\n",
    "            m[i] = j\n",
    "newpreds = np.zeros(len(preds))\n",
    "for i in range(len(preds)):\n",
    "    newpreds[i] = m[preds[i]]"
   ]
  },
  {
   "cell_type": "code",
   "execution_count": 18,
   "metadata": {},
   "outputs": [
    {
     "name": "stdout",
     "output_type": "stream",
     "text": [
      "Accuracy of            Irish_water_spaniel :         38 %\n",
      "Accuracy of                   Afghan_hound :         30 %\n",
      "Accuracy of             miniature_pinscher :         28 %\n",
      "Accuracy of                           chow :         28 %\n",
      "Accuracy of                  silky_terrier :         25 %\n",
      "Accuracy of                   Newfoundland :         25 %\n",
      "Accuracy of            Rhodesian_ridgeback :         25 %\n",
      "Accuracy of                        redbone :         25 %\n",
      "Accuracy of                    EntleBucher :         24 %\n",
      "Accuracy of             Scottish_deerhound :         21 %\n",
      "Accuracy of                       Shih_Tzu :         21 %\n",
      "Accuracy of                    Maltese_dog :         20 %\n",
      "Accuracy of                       komondor :         20 %\n",
      "Accuracy of           Bernese_mountain_dog :         19 %\n",
      "Accuracy of                Norwich_terrier :         18 %\n",
      "Accuracy of                 Great_Pyrenees :         18 %\n",
      "Accuracy of                     bloodhound :         18 %\n",
      "Accuracy of                      Chihuahua :         17 %\n",
      "Accuracy of                     Pomeranian :         15 %\n",
      "Accuracy of               Sealyham_terrier :         15 %\n",
      "Accuracy of                       Leonberg :         14 %\n",
      "Accuracy of    West_Highland_white_terrier :         14 %\n",
      "Accuracy of          flat_coated_retriever :         13 %\n",
      "Accuracy of                Tibetan_mastiff :         13 %\n",
      "Accuracy of                    Boston_bull :         12 %\n",
      "Accuracy of                        Samoyed :         11 %\n",
      "Accuracy of                          boxer :         11 %\n",
      "Accuracy of           Old_English_sheepdog :         11 %\n",
      "Accuracy of               Blenheim_spaniel :         11 %\n",
      "Accuracy of                          cairn :         11 %\n",
      "Accuracy of                     schipperke :         11 %\n",
      "Accuracy of                       Pembroke :         11 %\n",
      "Accuracy of                giant_schnauzer :         10 %\n",
      "Accuracy of     Greater_Swiss_Mountain_dog :         10 %\n",
      "Accuracy of                   Ibizan_hound :         10 %\n",
      "Accuracy of            African_hunting_dog :         10 %\n",
      "Accuracy of                 Dandie_Dinmont :         10 %\n",
      "Accuracy of                       papillon :          9 %\n",
      "Accuracy of                Irish_wolfhound :          9 %\n",
      "Accuracy of             Kerry_blue_terrier :          8 %\n",
      "Accuracy of                         Saluki :          8 %\n",
      "Accuracy of        black_and_tan_coonhound :          6 %\n",
      "Accuracy of               English_springer :          6 %\n",
      "Accuracy of                         beagle :          6 %\n",
      "Accuracy of                    groenendael :          6 %\n",
      "Accuracy of                     Weimaraner :          5 %\n",
      "Accuracy of              Italian_greyhound :          4 %\n",
      "Accuracy of             Bedlington_terrier :          4 %\n",
      "Accuracy of American_Staffordshire_terrier :          4 %\n",
      "Accuracy of               English_foxhound :          3 %\n",
      "Accuracy of               Lakeland_terrier :          3 %\n",
      "Accuracy of                       bluetick :          2 %\n",
      "Accuracy of               Japanese_spaniel :          2 %\n",
      "Accuracy of                         kuvasz :          2 %\n",
      "Accuracy of                        basenji :          1 %\n",
      "Accuracy of                       Pekinese :          0 %\n",
      "Accuracy of                    toy_terrier :          0 %\n",
      "Accuracy of                         basset :          0 %\n",
      "Accuracy of                   Walker_hound :          0 %\n",
      "Accuracy of                         borzoi :          0 %\n",
      "Accuracy of                        whippet :          0 %\n",
      "Accuracy of             Norwegian_elkhound :          0 %\n",
      "Accuracy of                     otterhound :          0 %\n",
      "Accuracy of      Staffordshire_bullterrier :          0 %\n",
      "Accuracy of                 Border_terrier :          0 %\n",
      "Accuracy of                  Irish_terrier :          0 %\n",
      "Accuracy of                Norfolk_terrier :          0 %\n",
      "Accuracy of              Yorkshire_terrier :          0 %\n",
      "Accuracy of        wire_haired_fox_terrier :          0 %\n",
      "Accuracy of                       Airedale :          0 %\n",
      "Accuracy of             Australian_terrier :          0 %\n",
      "Accuracy of            miniature_schnauzer :          0 %\n",
      "Accuracy of             standard_schnauzer :          0 %\n",
      "Accuracy of                 Scotch_terrier :          0 %\n",
      "Accuracy of                Tibetan_terrier :          0 %\n",
      "Accuracy of    soft_coated_wheaten_terrier :          0 %\n",
      "Accuracy of                          Lhasa :          0 %\n",
      "Accuracy of         curly_coated_retriever :          0 %\n",
      "Accuracy of               golden_retriever :          0 %\n",
      "Accuracy of             Labrador_retriever :          0 %\n",
      "Accuracy of       Chesapeake_Bay_retriever :          0 %\n",
      "Accuracy of    German_short_haired_pointer :          0 %\n",
      "Accuracy of                         vizsla :          0 %\n",
      "Accuracy of                 English_setter :          0 %\n",
      "Accuracy of                   Irish_setter :          0 %\n",
      "Accuracy of                  Gordon_setter :          0 %\n",
      "Accuracy of               Brittany_spaniel :          0 %\n",
      "Accuracy of                        clumber :          0 %\n",
      "Accuracy of         Welsh_springer_spaniel :          0 %\n",
      "Accuracy of                 cocker_spaniel :          0 %\n",
      "Accuracy of                 Sussex_spaniel :          0 %\n",
      "Accuracy of                       malinois :          0 %\n",
      "Accuracy of                         briard :          0 %\n",
      "Accuracy of                         kelpie :          0 %\n",
      "Accuracy of              Shetland_sheepdog :          0 %\n",
      "Accuracy of                         collie :          0 %\n",
      "Accuracy of                  Border_collie :          0 %\n",
      "Accuracy of           Bouvier_des_Flandres :          0 %\n",
      "Accuracy of                     Rottweiler :          0 %\n",
      "Accuracy of                German_shepherd :          0 %\n",
      "Accuracy of                       Doberman :          0 %\n",
      "Accuracy of                    Appenzeller :          0 %\n",
      "Accuracy of                   bull_mastiff :          0 %\n",
      "Accuracy of                 French_bulldog :          0 %\n",
      "Accuracy of                     Great_Dane :          0 %\n",
      "Accuracy of                  Saint_Bernard :          0 %\n",
      "Accuracy of                     Eskimo_dog :          0 %\n",
      "Accuracy of                       malamute :          0 %\n",
      "Accuracy of                 Siberian_husky :          0 %\n",
      "Accuracy of                  affenpinscher :          0 %\n",
      "Accuracy of                            pug :          0 %\n",
      "Accuracy of                       keeshond :          0 %\n",
      "Accuracy of              Brabancon_griffon :          0 %\n",
      "Accuracy of                       Cardigan :          0 %\n",
      "Accuracy of                     toy_poodle :          0 %\n",
      "Accuracy of               miniature_poodle :          0 %\n",
      "Accuracy of                standard_poodle :          0 %\n",
      "Accuracy of               Mexican_hairless :          0 %\n",
      "Accuracy of                          dingo :          0 %\n",
      "Accuracy of                          dhole :          0 %\n",
      "Mean accuracy: 7.634033 %\n"
     ]
    }
   ],
   "source": [
    "from sklearn.metrics import accuracy_score\n",
    "from sklearn.metrics import confusion_matrix\n",
    "cm = confusion_matrix(test_labels, newpreds)\n",
    "np.savetxt('kmeans_sift_confusion.txt', cm)\n",
    "\n",
    "meanacc = accuracy_score(test_labels, newpreds)*100\n",
    "classacc = 100*(cm.diagonal()/(cm.sum(axis=1)))\n",
    "f = open(\"classes.txt\", \"r\")\n",
    "classmap = {}\n",
    "for i in range(120):\n",
    "    classs = f.readline().split(\" \")\n",
    "    classmap[classs[0]] = classacc[i]\n",
    "    \n",
    "sortedmap = sorted(classmap.items(), key=lambda item: item[1], reverse=True)\n",
    "\n",
    "for k, v in sortedmap:\n",
    "    print('Accuracy of %30s : %10d %%' % (k, v))\n",
    "print('Mean accuracy: %5f %%' % meanacc)"
   ]
  },
  {
   "cell_type": "code",
   "execution_count": null,
   "metadata": {},
   "outputs": [],
   "source": []
  }
 ],
 "metadata": {
  "kernelspec": {
   "display_name": "Python 3",
   "language": "python",
   "name": "python3"
  },
  "language_info": {
   "codemirror_mode": {
    "name": "ipython",
    "version": 3
   },
   "file_extension": ".py",
   "mimetype": "text/x-python",
   "name": "python",
   "nbconvert_exporter": "python",
   "pygments_lexer": "ipython3",
   "version": "3.8.5"
  }
 },
 "nbformat": 4,
 "nbformat_minor": 4
}
