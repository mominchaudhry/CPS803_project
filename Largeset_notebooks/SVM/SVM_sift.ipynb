{
 "cells": [
  {
   "cell_type": "code",
   "execution_count": 7,
   "metadata": {},
   "outputs": [],
   "source": [
    "import numpy as np\n",
    "import matplotlib.pyplot as plt\n",
    "import re\n",
    "import time\n",
    "from PIL import Image\n",
    "from sklearn import svm\n",
    "from sklearn.model_selection import train_test_split"
   ]
  },
  {
   "cell_type": "code",
   "execution_count": 8,
   "metadata": {},
   "outputs": [
    {
     "name": "stdout",
     "output_type": "stream",
     "text": [
      "(12000, 5376) (12000,)\n"
     ]
    }
   ],
   "source": [
    "from scipy.io import loadmat\n",
    "mat = loadmat('../../train_data.mat')\n",
    "train_data = mat['train_fg_data']\n",
    "train_labels = mat['train_info'][0, 0]['labels'].reshape(12000, )\n",
    "print(train_data.shape, train_labels.shape)"
   ]
  },
  {
   "cell_type": "code",
   "execution_count": 9,
   "metadata": {},
   "outputs": [
    {
     "name": "stdout",
     "output_type": "stream",
     "text": [
      "(4290, 5376) (4290, 5376)\n"
     ]
    }
   ],
   "source": [
    "mat1 = loadmat('../../test_data.mat')\n",
    "test_data = mat1['test_fg_data']\n",
    "test_labels = mat1['test_info'][0, 0]['labels'].reshape(len(test_data), )\n",
    "\n",
    "val_data, test_data, val_labels, test_labels = train_test_split(test_data, test_labels, test_size=0.5, random_state=42)\n",
    "print(test_data.shape, val_data.shape)"
   ]
  },
  {
   "cell_type": "code",
   "execution_count": 10,
   "metadata": {},
   "outputs": [
    {
     "name": "stdout",
     "output_type": "stream",
     "text": [
      "Training complete in 21m 40s\n"
     ]
    }
   ],
   "source": [
    "clf = svm.SVC()\n",
    "since = time.time()\n",
    "clf.fit(train_data, train_labels)\n",
    "time_elapsed = time.time() - since\n",
    "print('Training complete in {:.0f}m {:.0f}s'.format(\n",
    "    time_elapsed // 60, time_elapsed % 60))\n",
    "\n",
    "preds = clf.predict(test_data)"
   ]
  },
  {
   "cell_type": "code",
   "execution_count": 29,
   "metadata": {},
   "outputs": [
    {
     "name": "stdout",
     "output_type": "stream",
     "text": [
      "Accuracy of               Sealyham_terrier :         60 %\n",
      "Accuracy of            Irish_water_spaniel :         50 %\n",
      "Accuracy of                          dhole :         50 %\n",
      "Accuracy of            African_hunting_dog :         48 %\n",
      "Accuracy of                        Samoyed :         48 %\n",
      "Accuracy of                       komondor :         46 %\n",
      "Accuracy of                    groenendael :         43 %\n",
      "Accuracy of     Greater_Swiss_Mountain_dog :         43 %\n",
      "Accuracy of                       keeshond :         41 %\n",
      "Accuracy of                         vizsla :         35 %\n",
      "Accuracy of                 Sussex_spaniel :         34 %\n",
      "Accuracy of                    EntleBucher :         34 %\n",
      "Accuracy of                   Afghan_hound :         33 %\n",
      "Accuracy of           Bouvier_des_Flandres :         33 %\n",
      "Accuracy of                  silky_terrier :         32 %\n",
      "Accuracy of             Scottish_deerhound :         31 %\n",
      "Accuracy of                     otterhound :         31 %\n",
      "Accuracy of                           chow :         31 %\n",
      "Accuracy of              Brabancon_griffon :         31 %\n",
      "Accuracy of                Norfolk_terrier :         29 %\n",
      "Accuracy of                       Leonberg :         29 %\n",
      "Accuracy of                     Rottweiler :         27 %\n",
      "Accuracy of                  Saint_Bernard :         26 %\n",
      "Accuracy of               Mexican_hairless :         26 %\n",
      "Accuracy of               Blenheim_spaniel :         24 %\n",
      "Accuracy of                      Chihuahua :         24 %\n",
      "Accuracy of         Welsh_springer_spaniel :         24 %\n",
      "Accuracy of                         kuvasz :         24 %\n",
      "Accuracy of           Bernese_mountain_dog :         23 %\n",
      "Accuracy of             miniature_pinscher :         23 %\n",
      "Accuracy of               Japanese_spaniel :         23 %\n",
      "Accuracy of               English_foxhound :         23 %\n",
      "Accuracy of                   Irish_setter :         23 %\n",
      "Accuracy of         curly_coated_retriever :         22 %\n",
      "Accuracy of                Norwich_terrier :         22 %\n",
      "Accuracy of                     Pomeranian :         21 %\n",
      "Accuracy of             Kerry_blue_terrier :         21 %\n",
      "Accuracy of                       malinois :         20 %\n",
      "Accuracy of                 Dandie_Dinmont :         20 %\n",
      "Accuracy of                       Pembroke :         18 %\n",
      "Accuracy of                     bloodhound :         17 %\n",
      "Accuracy of             Bedlington_terrier :         17 %\n",
      "Accuracy of               golden_retriever :         17 %\n",
      "Accuracy of                         borzoi :         17 %\n",
      "Accuracy of                   Ibizan_hound :         16 %\n",
      "Accuracy of                    Maltese_dog :         16 %\n",
      "Accuracy of                giant_schnauzer :         16 %\n",
      "Accuracy of                   bull_mastiff :         16 %\n",
      "Accuracy of               Brittany_spaniel :         16 %\n",
      "Accuracy of                     schipperke :         16 %\n",
      "Accuracy of           Old_English_sheepdog :         15 %\n",
      "Accuracy of                       Pekinese :         15 %\n",
      "Accuracy of                 Scotch_terrier :         15 %\n",
      "Accuracy of                         collie :         15 %\n",
      "Accuracy of    soft_coated_wheaten_terrier :         14 %\n",
      "Accuracy of                        redbone :         14 %\n",
      "Accuracy of                        whippet :         14 %\n",
      "Accuracy of                 Border_terrier :         13 %\n",
      "Accuracy of    German_short_haired_pointer :         13 %\n",
      "Accuracy of                        basenji :         13 %\n",
      "Accuracy of               Lakeland_terrier :         13 %\n",
      "Accuracy of             Norwegian_elkhound :         13 %\n",
      "Accuracy of                       papillon :         13 %\n",
      "Accuracy of                  Irish_terrier :         12 %\n",
      "Accuracy of            Rhodesian_ridgeback :         12 %\n",
      "Accuracy of                       Airedale :         12 %\n",
      "Accuracy of                        clumber :         12 %\n",
      "Accuracy of                         Saluki :         11 %\n",
      "Accuracy of             Australian_terrier :         11 %\n",
      "Accuracy of        black_and_tan_coonhound :         11 %\n",
      "Accuracy of                   Walker_hound :         11 %\n",
      "Accuracy of                          Lhasa :         11 %\n",
      "Accuracy of                       malamute :         11 %\n",
      "Accuracy of                          cairn :         10 %\n",
      "Accuracy of                    toy_terrier :         10 %\n",
      "Accuracy of                    Appenzeller :         10 %\n",
      "Accuracy of                    Boston_bull :         10 %\n",
      "Accuracy of                 Great_Pyrenees :         10 %\n",
      "Accuracy of                       Shih_Tzu :          9 %\n",
      "Accuracy of                     Weimaraner :          9 %\n",
      "Accuracy of        wire_haired_fox_terrier :          9 %\n",
      "Accuracy of                         kelpie :          8 %\n",
      "Accuracy of                       Doberman :          8 %\n",
      "Accuracy of      Staffordshire_bullterrier :          8 %\n",
      "Accuracy of                  Gordon_setter :          7 %\n",
      "Accuracy of                     Great_Dane :          7 %\n",
      "Accuracy of                Tibetan_terrier :          7 %\n",
      "Accuracy of    West_Highland_white_terrier :          6 %\n",
      "Accuracy of                  Border_collie :          6 %\n",
      "Accuracy of                   Newfoundland :          6 %\n",
      "Accuracy of              Yorkshire_terrier :          6 %\n",
      "Accuracy of               English_springer :          6 %\n",
      "Accuracy of                Irish_wolfhound :          5 %\n",
      "Accuracy of                            pug :          4 %\n",
      "Accuracy of            miniature_schnauzer :          4 %\n",
      "Accuracy of              Shetland_sheepdog :          4 %\n",
      "Accuracy of                     Eskimo_dog :          4 %\n",
      "Accuracy of                  affenpinscher :          4 %\n",
      "Accuracy of                       Cardigan :          4 %\n",
      "Accuracy of                         beagle :          4 %\n",
      "Accuracy of             standard_schnauzer :          4 %\n",
      "Accuracy of                Tibetan_mastiff :          3 %\n",
      "Accuracy of                German_shepherd :          3 %\n",
      "Accuracy of                         briard :          3 %\n",
      "Accuracy of                 cocker_spaniel :          3 %\n",
      "Accuracy of          flat_coated_retriever :          3 %\n",
      "Accuracy of American_Staffordshire_terrier :          3 %\n",
      "Accuracy of              Italian_greyhound :          2 %\n",
      "Accuracy of                       bluetick :          2 %\n",
      "Accuracy of                 Siberian_husky :          2 %\n",
      "Accuracy of             Labrador_retriever :          2 %\n",
      "Accuracy of                         basset :          0 %\n",
      "Accuracy of       Chesapeake_Bay_retriever :          0 %\n",
      "Accuracy of                 English_setter :          0 %\n",
      "Accuracy of                          boxer :          0 %\n",
      "Accuracy of                 French_bulldog :          0 %\n",
      "Accuracy of                     toy_poodle :          0 %\n",
      "Accuracy of               miniature_poodle :          0 %\n",
      "Accuracy of                standard_poodle :          0 %\n",
      "Accuracy of                          dingo :          0 %\n",
      "Mean accuracy: 17.109557 %\n"
     ]
    }
   ],
   "source": [
    "from sklearn.metrics import accuracy_score\n",
    "from sklearn.metrics import confusion_matrix\n",
    "cm = confusion_matrix(test_labels, preds)\n",
    "np.savetxt('svm_sift_confusion.txt', cm)\n",
    "\n",
    "meanacc = accuracy_score(test_labels, preds)*100\n",
    "classacc = 100*(cm.diagonal()/cm.sum(axis=1))\n",
    "f = open(\"../../classes.txt\", \"r\")\n",
    "classmap = {}\n",
    "for i in range(120):\n",
    "    classs = f.readline().split(\" \")\n",
    "    classmap[classs[0]] = classacc[i]\n",
    "\n",
    "i = 1\n",
    "with open('svm_sift_accuracies.txt','w') as l:\n",
    "    for k, v in classmap.items():\n",
    "        l.write(k + '   {}\\n'.format(v))\n",
    "        i+=1\n",
    "    \n",
    "sortedmap = sorted(classmap.items(), key=lambda item: item[1], reverse=True)\n",
    "\n",
    "for k, v in sortedmap:\n",
    "    print('Accuracy of %30s : %10d %%' % (k, v))\n",
    "print('Mean accuracy: %5f %%' % meanacc)"
   ]
  },
  {
   "cell_type": "code",
   "execution_count": null,
   "metadata": {},
   "outputs": [],
   "source": []
  }
 ],
 "metadata": {
  "kernelspec": {
   "display_name": "Python 3",
   "language": "python",
   "name": "python3"
  },
  "language_info": {
   "codemirror_mode": {
    "name": "ipython",
    "version": 3
   },
   "file_extension": ".py",
   "mimetype": "text/x-python",
   "name": "python",
   "nbconvert_exporter": "python",
   "pygments_lexer": "ipython3",
   "version": "3.8.5"
  }
 },
 "nbformat": 4,
 "nbformat_minor": 4
}
