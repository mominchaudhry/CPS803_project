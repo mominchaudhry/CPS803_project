{
 "cells": [
  {
   "cell_type": "code",
   "execution_count": 1,
   "metadata": {},
   "outputs": [],
   "source": [
    "from sklearn.cluster import KMeans\n",
    "from scipy.io import loadmat\n",
    "import numpy as np\n",
    "from sklearn.model_selection import train_test_split"
   ]
  },
  {
   "cell_type": "code",
   "execution_count": 2,
   "metadata": {},
   "outputs": [
    {
     "name": "stdout",
     "output_type": "stream",
     "text": [
      "(12000, 5376)\n"
     ]
    }
   ],
   "source": [
    "mat = loadmat('../../train_data.mat')\n",
    "train_data = mat['train_fg_data']\n",
    "train_labels = mat['train_info'][0, 0]['labels'].reshape(12000, )\n",
    "print(train_data.shape)"
   ]
  },
  {
   "cell_type": "code",
   "execution_count": 9,
   "metadata": {},
   "outputs": [
    {
     "name": "stdout",
     "output_type": "stream",
     "text": [
      "(4290, 5376) (4290, 5376)\n"
     ]
    }
   ],
   "source": [
    "mat1 = loadmat('../../test_data.mat')\n",
    "test_data = mat1['test_fg_data']\n",
    "test_labels = mat1['test_info'][0, 0]['labels'].reshape(len(test_data), )\n",
    "val_data, test_data, val_labels, test_labels = train_test_split(test_data, test_labels, test_size=0.5, random_state=42)\n",
    "print(test_data.shape, val_data.shape)"
   ]
  },
  {
   "cell_type": "code",
   "execution_count": 10,
   "metadata": {},
   "outputs": [
    {
     "name": "stdout",
     "output_type": "stream",
     "text": [
      "Training complete in 3m 35s\n"
     ]
    }
   ],
   "source": [
    "import time\n",
    "since = time.time()\n",
    "kmeans = KMeans(n_clusters=120).fit(train_data)\n",
    "time_elapsed = time.time() - since\n",
    "print('Training complete in {:.0f}m {:.0f}s'.format(\n",
    "    time_elapsed // 60, time_elapsed % 60))\n",
    "trainl = kmeans.labels_\n",
    "preds = kmeans.predict(test_data)"
   ]
  },
  {
   "cell_type": "code",
   "execution_count": 11,
   "metadata": {},
   "outputs": [],
   "source": [
    "import matplotlib.pyplot as plt\n",
    "from sklearn.metrics import plot_confusion_matrix\n",
    "from sklearn.metrics import confusion_matrix\n",
    "cm = confusion_matrix(preds, test_labels)\n",
    "m = np.zeros(120)\n",
    "max = 0\n",
    "for i in range(len(cm)):\n",
    "    max = 0\n",
    "    for j in range(len(cm.T)):\n",
    "        curr = cm[i][j]\n",
    "        if curr > max:\n",
    "            max = curr\n",
    "            m[i] = j\n",
    "newpreds = np.zeros(len(preds))\n",
    "for i in range(len(preds)):\n",
    "    newpreds[i] = m[preds[i]]"
   ]
  },
  {
   "cell_type": "code",
   "execution_count": 12,
   "metadata": {},
   "outputs": [
    {
     "name": "stdout",
     "output_type": "stream",
     "text": [
      "Accuracy of                    Maltese_dog :         33 %\n",
      "Accuracy of                   Afghan_hound :         30 %\n",
      "Accuracy of                       Leonberg :         29 %\n",
      "Accuracy of             Kerry_blue_terrier :         28 %\n",
      "Accuracy of                     bloodhound :         26 %\n",
      "Accuracy of                   Newfoundland :         26 %\n",
      "Accuracy of                         basset :         25 %\n",
      "Accuracy of               Sealyham_terrier :         25 %\n",
      "Accuracy of           Bernese_mountain_dog :         25 %\n",
      "Accuracy of                       komondor :         25 %\n",
      "Accuracy of             Scottish_deerhound :         23 %\n",
      "Accuracy of                   Ibizan_hound :         23 %\n",
      "Accuracy of                           chow :         22 %\n",
      "Accuracy of                    EntleBucher :         22 %\n",
      "Accuracy of                    Boston_bull :         17 %\n",
      "Accuracy of                       keeshond :         17 %\n",
      "Accuracy of            Irish_water_spaniel :         16 %\n",
      "Accuracy of               Blenheim_spaniel :         16 %\n",
      "Accuracy of             miniature_pinscher :         15 %\n",
      "Accuracy of               Lakeland_terrier :         15 %\n",
      "Accuracy of                       Pekinese :         15 %\n",
      "Accuracy of        black_and_tan_coonhound :         15 %\n",
      "Accuracy of                Norfolk_terrier :         14 %\n",
      "Accuracy of                  silky_terrier :         13 %\n",
      "Accuracy of                        basenji :         13 %\n",
      "Accuracy of                       Pembroke :         13 %\n",
      "Accuracy of                    toy_terrier :         13 %\n",
      "Accuracy of            African_hunting_dog :         12 %\n",
      "Accuracy of                       Shih_Tzu :         12 %\n",
      "Accuracy of                         kelpie :         12 %\n",
      "Accuracy of                     Rottweiler :         12 %\n",
      "Accuracy of                 Great_Pyrenees :         12 %\n",
      "Accuracy of                         kuvasz :         12 %\n",
      "Accuracy of             Australian_terrier :         11 %\n",
      "Accuracy of                 Dandie_Dinmont :         11 %\n",
      "Accuracy of                       papillon :         11 %\n",
      "Accuracy of                          dhole :         11 %\n",
      "Accuracy of                       bluetick :         10 %\n",
      "Accuracy of                Norwich_terrier :         10 %\n",
      "Accuracy of            Rhodesian_ridgeback :         10 %\n",
      "Accuracy of          flat_coated_retriever :          9 %\n",
      "Accuracy of               Japanese_spaniel :          9 %\n",
      "Accuracy of                          Lhasa :          8 %\n",
      "Accuracy of                         borzoi :          8 %\n",
      "Accuracy of                       Doberman :          8 %\n",
      "Accuracy of                      Chihuahua :          8 %\n",
      "Accuracy of                   Walker_hound :          7 %\n",
      "Accuracy of                  Irish_terrier :          6 %\n",
      "Accuracy of                giant_schnauzer :          6 %\n",
      "Accuracy of                Irish_wolfhound :          5 %\n",
      "Accuracy of             Bedlington_terrier :          5 %\n",
      "Accuracy of                         Saluki :          4 %\n",
      "Accuracy of             Norwegian_elkhound :          4 %\n",
      "Accuracy of                        whippet :          4 %\n",
      "Accuracy of                         beagle :          4 %\n",
      "Accuracy of    soft_coated_wheaten_terrier :          3 %\n",
      "Accuracy of               English_foxhound :          3 %\n",
      "Accuracy of        wire_haired_fox_terrier :          3 %\n",
      "Accuracy of           Old_English_sheepdog :          2 %\n",
      "Accuracy of                        redbone :          0 %\n",
      "Accuracy of              Italian_greyhound :          0 %\n",
      "Accuracy of                     otterhound :          0 %\n",
      "Accuracy of                     Weimaraner :          0 %\n",
      "Accuracy of      Staffordshire_bullterrier :          0 %\n",
      "Accuracy of American_Staffordshire_terrier :          0 %\n",
      "Accuracy of                 Border_terrier :          0 %\n",
      "Accuracy of              Yorkshire_terrier :          0 %\n",
      "Accuracy of                       Airedale :          0 %\n",
      "Accuracy of                          cairn :          0 %\n",
      "Accuracy of            miniature_schnauzer :          0 %\n",
      "Accuracy of             standard_schnauzer :          0 %\n",
      "Accuracy of                 Scotch_terrier :          0 %\n",
      "Accuracy of                Tibetan_terrier :          0 %\n",
      "Accuracy of    West_Highland_white_terrier :          0 %\n",
      "Accuracy of         curly_coated_retriever :          0 %\n",
      "Accuracy of               golden_retriever :          0 %\n",
      "Accuracy of             Labrador_retriever :          0 %\n",
      "Accuracy of       Chesapeake_Bay_retriever :          0 %\n",
      "Accuracy of    German_short_haired_pointer :          0 %\n",
      "Accuracy of                         vizsla :          0 %\n",
      "Accuracy of                 English_setter :          0 %\n",
      "Accuracy of                   Irish_setter :          0 %\n",
      "Accuracy of                  Gordon_setter :          0 %\n",
      "Accuracy of               Brittany_spaniel :          0 %\n",
      "Accuracy of                        clumber :          0 %\n",
      "Accuracy of               English_springer :          0 %\n",
      "Accuracy of         Welsh_springer_spaniel :          0 %\n",
      "Accuracy of                 cocker_spaniel :          0 %\n",
      "Accuracy of                 Sussex_spaniel :          0 %\n",
      "Accuracy of                     schipperke :          0 %\n",
      "Accuracy of                    groenendael :          0 %\n",
      "Accuracy of                       malinois :          0 %\n",
      "Accuracy of                         briard :          0 %\n",
      "Accuracy of              Shetland_sheepdog :          0 %\n",
      "Accuracy of                         collie :          0 %\n",
      "Accuracy of                  Border_collie :          0 %\n",
      "Accuracy of           Bouvier_des_Flandres :          0 %\n",
      "Accuracy of                German_shepherd :          0 %\n",
      "Accuracy of     Greater_Swiss_Mountain_dog :          0 %\n",
      "Accuracy of                    Appenzeller :          0 %\n",
      "Accuracy of                          boxer :          0 %\n",
      "Accuracy of                   bull_mastiff :          0 %\n",
      "Accuracy of                Tibetan_mastiff :          0 %\n",
      "Accuracy of                 French_bulldog :          0 %\n",
      "Accuracy of                     Great_Dane :          0 %\n",
      "Accuracy of                  Saint_Bernard :          0 %\n",
      "Accuracy of                     Eskimo_dog :          0 %\n",
      "Accuracy of                       malamute :          0 %\n",
      "Accuracy of                 Siberian_husky :          0 %\n",
      "Accuracy of                  affenpinscher :          0 %\n",
      "Accuracy of                            pug :          0 %\n",
      "Accuracy of                        Samoyed :          0 %\n",
      "Accuracy of                     Pomeranian :          0 %\n",
      "Accuracy of              Brabancon_griffon :          0 %\n",
      "Accuracy of                       Cardigan :          0 %\n",
      "Accuracy of                     toy_poodle :          0 %\n",
      "Accuracy of               miniature_poodle :          0 %\n",
      "Accuracy of                standard_poodle :          0 %\n",
      "Accuracy of               Mexican_hairless :          0 %\n",
      "Accuracy of                          dingo :          0 %\n",
      "Mean accuracy: 8.624709 %\n"
     ]
    }
   ],
   "source": [
    "from sklearn.metrics import accuracy_score\n",
    "from sklearn.metrics import confusion_matrix\n",
    "cm = confusion_matrix(test_labels, newpreds)\n",
    "np.savetxt('kmeans_sift_confusion.txt', cm)\n",
    "\n",
    "meanacc = accuracy_score(test_labels, newpreds)*100\n",
    "classacc = 100*(cm.diagonal()/(cm.sum(axis=1)))\n",
    "f = open(\"../../classes.txt\", \"r\")\n",
    "classmap = {}\n",
    "for i in range(120):\n",
    "    classs = f.readline().split(\" \")\n",
    "    classmap[classs[0]] = classacc[i]\n",
    "    \n",
    "    \n",
    "i = 1\n",
    "with open('kmeans_sift_accuracies.txt','w') as l:\n",
    "    for k, v in classmap.items():\n",
    "        l.write(k + '   {}\\n'.format(v))\n",
    "        i+=1\n",
    "        \n",
    "sortedmap = sorted(classmap.items(), key=lambda item: item[1], reverse=True)\n",
    "\n",
    "for k, v in sortedmap:\n",
    "    print('Accuracy of %30s : %10d %%' % (k, v))\n",
    "print('Mean accuracy: %5f %%' % meanacc)"
   ]
  },
  {
   "cell_type": "code",
   "execution_count": 2,
   "metadata": {},
   "outputs": [
    {
     "name": "stdout",
     "output_type": "stream",
     "text": [
      "precision = 0.05667705532107204\n",
      "recall = 0.06931014110967446\n",
      "F1-avg = 0.06\n"
     ]
    },
    {
     "name": "stderr",
     "output_type": "stream",
     "text": [
      "C:\\Users\\ashka\\Anaconda3\\lib\\site-packages\\ipykernel_launcher.py:12: RuntimeWarning: invalid value encountered in true_divide\n",
      "  if sys.path[0] == '':\n"
     ]
    }
   ],
   "source": [
    "\"\"\"\n",
    "    Cell purpose : Calculating percision, recall, and F1-score from the confusion matrix\n",
    "\"\"\"\n",
    "import numpy as np\n",
    "\n",
    "cm = np.loadtxt(\"kmeans_sift_confusion.txt\", dtype=float)\n",
    "\n",
    "true_pos = np.diag(cm) # True Positives are on the diagonal position\n",
    "false_pos = np.sum(cm, axis=0) - true_pos # False positives are column-wise sums. Without the diagonal\n",
    "false_neg = np.sum(cm, axis=1) - true_pos # False negatives are row-wise sums. Without the diagonal\n",
    "\n",
    "precision = np.sum(np.nan_to_num(true_pos / (true_pos + false_pos))) / 120\n",
    "recall = np.sum(np.nan_to_num(true_pos / (true_pos + false_neg))) / 120\n",
    "f1_array = np.nan_to_num(true_pos / (true_pos + (1/2) * (false_pos + false_neg)))\n",
    "f1_score = (2 * precision * recall) / (precision + recall)\n",
    "\n",
    "print(\"precision = {}\".format(precision))\n",
    "print(\"recall = {}\".format(recall))\n",
    "print(\"F1-avg = %.2f\" % (f1_score))\n",
    "\n",
    "np.savetxt(\"f1_kmeans_sift.txt\", f1_array)"
   ]
  },
  {
   "cell_type": "code",
   "execution_count": null,
   "metadata": {},
   "outputs": [],
   "source": []
  }
 ],
 "metadata": {
  "kernelspec": {
   "display_name": "Python 3",
   "language": "python",
   "name": "python3"
  },
  "language_info": {
   "codemirror_mode": {
    "name": "ipython",
    "version": 3
   },
   "file_extension": ".py",
   "mimetype": "text/x-python",
   "name": "python",
   "nbconvert_exporter": "python",
   "pygments_lexer": "ipython3",
   "version": "3.7.3"
  }
 },
 "nbformat": 4,
 "nbformat_minor": 4
}
