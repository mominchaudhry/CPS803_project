{
 "cells": [
  {
   "cell_type": "code",
   "execution_count": 1,
   "metadata": {},
   "outputs": [],
   "source": [
    "import numpy as np\n",
    "from sklearn.cluster import KMeans\n",
    "from scipy.io import loadmat\n",
    "from sklearn.model_selection import train_test_split\n",
    "mat = loadmat('../../train_data.mat')\n",
    "train_data = mat['train_fg_data']\n",
    "train_labels = mat['train_info'][0, 0]['labels'].reshape(len(train_data), )"
   ]
  },
  {
   "cell_type": "code",
   "execution_count": 2,
   "metadata": {},
   "outputs": [
    {
     "name": "stdout",
     "output_type": "stream",
     "text": [
      "(4290, 5376) (4290, 5376)\n"
     ]
    }
   ],
   "source": [
    "mat1 = loadmat('../../test_data.mat')\n",
    "test_data = mat1['test_fg_data']\n",
    "test_labels = mat1['test_info'][0, 0]['labels'].reshape(len(test_data), )\n",
    "val_data, test_data, val_labels, test_labels = train_test_split(test_data, test_labels, test_size=0.5, random_state=42)\n",
    "print(test_data.shape, val_data.shape)"
   ]
  },
  {
   "cell_type": "code",
   "execution_count": 3,
   "metadata": {},
   "outputs": [
    {
     "name": "stdout",
     "output_type": "stream",
     "text": [
      "(1800, 5376) (1800,)\n"
     ]
    }
   ],
   "source": [
    "small_data = np.empty((0,5376))\n",
    "small_labels = np.empty((0,))\n",
    "for i in range(0, 12000, 100):\n",
    "    small_data = np.append(small_data, train_data[i:i+15, :], axis=0)\n",
    "    small_labels = np.append(small_labels, train_labels[i:i+15])\n",
    "print(small_data.shape, small_labels.shape)"
   ]
  },
  {
   "cell_type": "code",
   "execution_count": 4,
   "metadata": {},
   "outputs": [
    {
     "name": "stdout",
     "output_type": "stream",
     "text": [
      "Training complete in 0m 29s\n"
     ]
    }
   ],
   "source": [
    "import time\n",
    "since = time.time()\n",
    "kmeans = KMeans(n_clusters=120).fit(small_data)\n",
    "time_elapsed = time.time() - since\n",
    "print('Training complete in {:.0f}m {:.0f}s'.format(\n",
    "    time_elapsed // 60, time_elapsed % 60))\n",
    "trainl = kmeans.labels_\n",
    "preds = kmeans.predict(test_data)"
   ]
  },
  {
   "cell_type": "code",
   "execution_count": 5,
   "metadata": {},
   "outputs": [],
   "source": [
    "import matplotlib.pyplot as plt\n",
    "from sklearn.metrics import plot_confusion_matrix\n",
    "from sklearn.metrics import confusion_matrix\n",
    "cm = confusion_matrix(preds, test_labels)\n",
    "m = np.zeros(120)\n",
    "max = 0\n",
    "for i in range(len(cm)):\n",
    "    max = 0\n",
    "    for j in range(len(cm.T)):\n",
    "        curr = cm[i][j]\n",
    "        if curr > max:\n",
    "            max = curr\n",
    "            m[i] = j\n",
    "newpreds = np.zeros(len(preds))\n",
    "for i in range(len(preds)):\n",
    "    newpreds[i] = m[preds[i]]"
   ]
  },
  {
   "cell_type": "code",
   "execution_count": 6,
   "metadata": {},
   "outputs": [
    {
     "name": "stdout",
     "output_type": "stream",
     "text": [
      "Accuracy of                    EntleBucher :         39 %\n",
      "Accuracy of                    Maltese_dog :         37 %\n",
      "Accuracy of                           chow :         33 %\n",
      "Accuracy of                  silky_terrier :         32 %\n",
      "Accuracy of                     bloodhound :         28 %\n",
      "Accuracy of                      Chihuahua :         28 %\n",
      "Accuracy of           Bernese_mountain_dog :         26 %\n",
      "Accuracy of                Norwich_terrier :         26 %\n",
      "Accuracy of             Kerry_blue_terrier :         26 %\n",
      "Accuracy of                giant_schnauzer :         25 %\n",
      "Accuracy of                       komondor :         25 %\n",
      "Accuracy of               Japanese_spaniel :         21 %\n",
      "Accuracy of                         vizsla :         21 %\n",
      "Accuracy of            Irish_water_spaniel :         20 %\n",
      "Accuracy of                          dhole :         19 %\n",
      "Accuracy of              Yorkshire_terrier :         18 %\n",
      "Accuracy of                          cairn :         17 %\n",
      "Accuracy of               Sealyham_terrier :         16 %\n",
      "Accuracy of                         Saluki :         16 %\n",
      "Accuracy of                 Great_Pyrenees :         15 %\n",
      "Accuracy of             Bedlington_terrier :         15 %\n",
      "Accuracy of                       malamute :         13 %\n",
      "Accuracy of                       bluetick :         13 %\n",
      "Accuracy of                   Newfoundland :         13 %\n",
      "Accuracy of                        whippet :         12 %\n",
      "Accuracy of American_Staffordshire_terrier :         12 %\n",
      "Accuracy of                       papillon :         11 %\n",
      "Accuracy of           Bouvier_des_Flandres :         11 %\n",
      "Accuracy of            Rhodesian_ridgeback :         10 %\n",
      "Accuracy of             Scottish_deerhound :          8 %\n",
      "Accuracy of                       Leonberg :          8 %\n",
      "Accuracy of                 Dandie_Dinmont :          8 %\n",
      "Accuracy of                Irish_wolfhound :          8 %\n",
      "Accuracy of                   Ibizan_hound :          6 %\n",
      "Accuracy of            African_hunting_dog :          6 %\n",
      "Accuracy of               Blenheim_spaniel :          6 %\n",
      "Accuracy of                    Appenzeller :          5 %\n",
      "Accuracy of                        Samoyed :          5 %\n",
      "Accuracy of            miniature_schnauzer :          4 %\n",
      "Accuracy of                        basenji :          3 %\n",
      "Accuracy of         curly_coated_retriever :          3 %\n",
      "Accuracy of               English_springer :          3 %\n",
      "Accuracy of                   Afghan_hound :          1 %\n",
      "Accuracy of                       Pekinese :          0 %\n",
      "Accuracy of                       Shih_Tzu :          0 %\n",
      "Accuracy of                    toy_terrier :          0 %\n",
      "Accuracy of                         basset :          0 %\n",
      "Accuracy of                         beagle :          0 %\n",
      "Accuracy of        black_and_tan_coonhound :          0 %\n",
      "Accuracy of                   Walker_hound :          0 %\n",
      "Accuracy of               English_foxhound :          0 %\n",
      "Accuracy of                        redbone :          0 %\n",
      "Accuracy of                         borzoi :          0 %\n",
      "Accuracy of              Italian_greyhound :          0 %\n",
      "Accuracy of             Norwegian_elkhound :          0 %\n",
      "Accuracy of                     otterhound :          0 %\n",
      "Accuracy of                     Weimaraner :          0 %\n",
      "Accuracy of      Staffordshire_bullterrier :          0 %\n",
      "Accuracy of                 Border_terrier :          0 %\n",
      "Accuracy of                  Irish_terrier :          0 %\n",
      "Accuracy of                Norfolk_terrier :          0 %\n",
      "Accuracy of        wire_haired_fox_terrier :          0 %\n",
      "Accuracy of               Lakeland_terrier :          0 %\n",
      "Accuracy of                       Airedale :          0 %\n",
      "Accuracy of             Australian_terrier :          0 %\n",
      "Accuracy of                    Boston_bull :          0 %\n",
      "Accuracy of             standard_schnauzer :          0 %\n",
      "Accuracy of                 Scotch_terrier :          0 %\n",
      "Accuracy of                Tibetan_terrier :          0 %\n",
      "Accuracy of    soft_coated_wheaten_terrier :          0 %\n",
      "Accuracy of    West_Highland_white_terrier :          0 %\n",
      "Accuracy of                          Lhasa :          0 %\n",
      "Accuracy of          flat_coated_retriever :          0 %\n",
      "Accuracy of               golden_retriever :          0 %\n",
      "Accuracy of             Labrador_retriever :          0 %\n",
      "Accuracy of       Chesapeake_Bay_retriever :          0 %\n",
      "Accuracy of    German_short_haired_pointer :          0 %\n",
      "Accuracy of                 English_setter :          0 %\n",
      "Accuracy of                   Irish_setter :          0 %\n",
      "Accuracy of                  Gordon_setter :          0 %\n",
      "Accuracy of               Brittany_spaniel :          0 %\n",
      "Accuracy of                        clumber :          0 %\n",
      "Accuracy of         Welsh_springer_spaniel :          0 %\n",
      "Accuracy of                 cocker_spaniel :          0 %\n",
      "Accuracy of                 Sussex_spaniel :          0 %\n",
      "Accuracy of                         kuvasz :          0 %\n",
      "Accuracy of                     schipperke :          0 %\n",
      "Accuracy of                    groenendael :          0 %\n",
      "Accuracy of                       malinois :          0 %\n",
      "Accuracy of                         briard :          0 %\n",
      "Accuracy of                         kelpie :          0 %\n",
      "Accuracy of           Old_English_sheepdog :          0 %\n",
      "Accuracy of              Shetland_sheepdog :          0 %\n",
      "Accuracy of                         collie :          0 %\n",
      "Accuracy of                  Border_collie :          0 %\n",
      "Accuracy of                     Rottweiler :          0 %\n",
      "Accuracy of                German_shepherd :          0 %\n",
      "Accuracy of                       Doberman :          0 %\n",
      "Accuracy of             miniature_pinscher :          0 %\n",
      "Accuracy of     Greater_Swiss_Mountain_dog :          0 %\n",
      "Accuracy of                          boxer :          0 %\n",
      "Accuracy of                   bull_mastiff :          0 %\n",
      "Accuracy of                Tibetan_mastiff :          0 %\n",
      "Accuracy of                 French_bulldog :          0 %\n",
      "Accuracy of                     Great_Dane :          0 %\n",
      "Accuracy of                  Saint_Bernard :          0 %\n",
      "Accuracy of                     Eskimo_dog :          0 %\n",
      "Accuracy of                 Siberian_husky :          0 %\n",
      "Accuracy of                  affenpinscher :          0 %\n",
      "Accuracy of                            pug :          0 %\n",
      "Accuracy of                     Pomeranian :          0 %\n",
      "Accuracy of                       keeshond :          0 %\n",
      "Accuracy of              Brabancon_griffon :          0 %\n",
      "Accuracy of                       Pembroke :          0 %\n",
      "Accuracy of                       Cardigan :          0 %\n",
      "Accuracy of                     toy_poodle :          0 %\n",
      "Accuracy of               miniature_poodle :          0 %\n",
      "Accuracy of                standard_poodle :          0 %\n",
      "Accuracy of               Mexican_hairless :          0 %\n",
      "Accuracy of                          dingo :          0 %\n",
      "Mean accuracy: 7.156177 %\n"
     ]
    }
   ],
   "source": [
    "from sklearn.metrics import accuracy_score\n",
    "from sklearn.metrics import confusion_matrix\n",
    "cm = confusion_matrix(test_labels, newpreds)\n",
    "np.savetxt('subset_kmeans_sift_confusion.txt', cm)\n",
    "\n",
    "meanacc = accuracy_score(test_labels, newpreds)*100\n",
    "classacc = 100*(cm.diagonal()/(cm.sum(axis=1)))\n",
    "f = open(\"../../classes.txt\", \"r\")\n",
    "classmap = {}\n",
    "for i in range(120):\n",
    "    classs = f.readline().split(\" \")\n",
    "    classmap[classs[0]] = classacc[i]\n",
    "    \n",
    "    \n",
    "i = 1\n",
    "with open('subset_kmeans_sift_accuracies.txt','w') as l:\n",
    "    for k, v in classmap.items():\n",
    "        l.write(k + '   {}\\n'.format(v))\n",
    "        i+=1\n",
    "        \n",
    "sortedmap = sorted(classmap.items(), key=lambda item: item[1], reverse=True)\n",
    "\n",
    "for k, v in sortedmap:\n",
    "    print('Accuracy of %30s : %10d %%' % (k, v))\n",
    "print('Mean accuracy: %5f %%' % meanacc)"
   ]
  },
  {
   "cell_type": "code",
   "execution_count": 3,
   "metadata": {},
   "outputs": [
    {
     "name": "stdout",
     "output_type": "stream",
     "text": [
      "precision = 0.07610987335849635\n",
      "recall = 0.05748902058633661\n",
      "F1-avg = 0.07\n"
     ]
    },
    {
     "name": "stderr",
     "output_type": "stream",
     "text": [
      "C:\\Users\\ashka\\Anaconda3\\lib\\site-packages\\ipykernel_launcher.py:12: RuntimeWarning: invalid value encountered in true_divide\n",
      "  if sys.path[0] == '':\n"
     ]
    }
   ],
   "source": [
    "\"\"\"\n",
    "    Cell purpose : Calculating percision, recall, and F1-score from the confusion matrix\n",
    "\"\"\"\n",
    "import numpy as np\n",
    "\n",
    "cm = np.loadtxt(\"subset_kmeans_sift_confusion.txt\", dtype=float)\n",
    "\n",
    "true_pos = np.diag(cm) # True Positives are on the diagonal position\n",
    "false_pos = np.sum(cm, axis=0) - true_pos # False positives are column-wise sums. Without the diagonal\n",
    "false_neg = np.sum(cm, axis=1) - true_pos # False negatives are row-wise sums. Without the diagonal\n",
    "\n",
    "precision = np.sum(np.nan_to_num(true_pos / (true_pos + false_pos))) / 120\n",
    "recall = np.sum(np.nan_to_num(true_pos / (true_pos + false_neg))) / 120\n",
    "f1_array = np.nan_to_num(true_pos / (true_pos + (1/2) * (false_pos + false_neg)))\n",
    "f1_score = (2 * precision * recall) / (precision + recall)\n",
    "\n",
    "print(\"precision = {}\".format(precision))\n",
    "print(\"recall = {}\".format(recall))\n",
    "print(\"F1-avg = %.2f\" % (f1_score))\n",
    "\n",
    "np.savetxt(\"f1_subset_kmeans_sift.txt\", f1_array)"
   ]
  },
  {
   "cell_type": "code",
   "execution_count": null,
   "metadata": {},
   "outputs": [],
   "source": []
  }
 ],
 "metadata": {
  "kernelspec": {
   "display_name": "Python 3",
   "language": "python",
   "name": "python3"
  },
  "language_info": {
   "codemirror_mode": {
    "name": "ipython",
    "version": 3
   },
   "file_extension": ".py",
   "mimetype": "text/x-python",
   "name": "python",
   "nbconvert_exporter": "python",
   "pygments_lexer": "ipython3",
   "version": "3.7.3"
  }
 },
 "nbformat": 4,
 "nbformat_minor": 4
}
