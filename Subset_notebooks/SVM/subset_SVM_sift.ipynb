{
 "cells": [
  {
   "cell_type": "code",
   "execution_count": 1,
   "metadata": {},
   "outputs": [],
   "source": [
    "import numpy as np\n",
    "from scipy.io import loadmat\n",
    "from sklearn.model_selection import train_test_split\n",
    "mat = loadmat('../../train_data.mat')\n",
    "train_data = mat['train_fg_data']\n",
    "train_labels = mat['train_info'][0, 0]['labels'].reshape(len(train_data), )"
   ]
  },
  {
   "cell_type": "code",
   "execution_count": 2,
   "metadata": {},
   "outputs": [
    {
     "name": "stdout",
     "output_type": "stream",
     "text": [
      "(4290, 5376) (4290, 5376)\n"
     ]
    }
   ],
   "source": [
    "mat1 = loadmat('../../test_data.mat')\n",
    "test_data = mat1['test_fg_data']\n",
    "test_labels = mat1['test_info'][0, 0]['labels'].reshape(len(test_data), )\n",
    "val_data, test_data, val_labels, test_labels = train_test_split(test_data, test_labels, test_size=0.5, random_state=42)\n",
    "print(test_data.shape, val_data.shape)"
   ]
  },
  {
   "cell_type": "code",
   "execution_count": 3,
   "metadata": {},
   "outputs": [
    {
     "name": "stdout",
     "output_type": "stream",
     "text": [
      "(1800, 5376) (1800,)\n"
     ]
    }
   ],
   "source": [
    "small_data = np.empty((0,5376))\n",
    "small_labels = np.empty((0,))\n",
    "for i in range(0, 12000, 100):\n",
    "    small_data = np.append(small_data, train_data[i:i+15, :], axis=0)\n",
    "    small_labels = np.append(small_labels, train_labels[i:i+15])\n",
    "print(small_data.shape, small_labels.shape)"
   ]
  },
  {
   "cell_type": "code",
   "execution_count": 4,
   "metadata": {},
   "outputs": [
    {
     "name": "stdout",
     "output_type": "stream",
     "text": [
      "Training complete in 0m 32s\n"
     ]
    }
   ],
   "source": [
    "from sklearn import svm\n",
    "from sklearn.model_selection import train_test_split\n",
    "import time\n",
    "clf = svm.SVC()\n",
    "since = time.time()\n",
    "clf.fit(small_data, small_labels)\n",
    "time_elapsed = time.time() - since\n",
    "print('Training complete in {:.0f}m {:.0f}s'.format(\n",
    "    time_elapsed // 60, time_elapsed % 60))\n",
    "preds = clf.predict(test_data)"
   ]
  },
  {
   "cell_type": "code",
   "execution_count": 5,
   "metadata": {},
   "outputs": [
    {
     "name": "stdout",
     "output_type": "stream",
     "text": [
      "Accuracy of                       Pembroke :         29 %\n",
      "Accuracy of            Irish_water_spaniel :         29 %\n",
      "Accuracy of                       Pekinese :         25 %\n",
      "Accuracy of                       komondor :         25 %\n",
      "Accuracy of                          dhole :         25 %\n",
      "Accuracy of                Norwich_terrier :         24 %\n",
      "Accuracy of                  Saint_Bernard :         24 %\n",
      "Accuracy of             Australian_terrier :         23 %\n",
      "Accuracy of                         Saluki :         20 %\n",
      "Accuracy of                   bull_mastiff :         19 %\n",
      "Accuracy of                   Irish_setter :         19 %\n",
      "Accuracy of             Kerry_blue_terrier :         19 %\n",
      "Accuracy of                 English_setter :         18 %\n",
      "Accuracy of             miniature_pinscher :         18 %\n",
      "Accuracy of                     Rottweiler :         18 %\n",
      "Accuracy of                    groenendael :         17 %\n",
      "Accuracy of                        Samoyed :         16 %\n",
      "Accuracy of                          Lhasa :         15 %\n",
      "Accuracy of                    EntleBucher :         15 %\n",
      "Accuracy of                     Weimaraner :         15 %\n",
      "Accuracy of                         vizsla :         14 %\n",
      "Accuracy of                 Sussex_spaniel :         13 %\n",
      "Accuracy of     Greater_Swiss_Mountain_dog :         13 %\n",
      "Accuracy of             Scottish_deerhound :         13 %\n",
      "Accuracy of          flat_coated_retriever :         12 %\n",
      "Accuracy of            African_hunting_dog :         12 %\n",
      "Accuracy of                      Chihuahua :         12 %\n",
      "Accuracy of                 Scotch_terrier :         11 %\n",
      "Accuracy of                 Dandie_Dinmont :         11 %\n",
      "Accuracy of           Bouvier_des_Flandres :         11 %\n",
      "Accuracy of                    Boston_bull :         10 %\n",
      "Accuracy of                       Leonberg :         10 %\n",
      "Accuracy of               Mexican_hairless :         10 %\n",
      "Accuracy of                         basset :          9 %\n",
      "Accuracy of              Yorkshire_terrier :          9 %\n",
      "Accuracy of                   Afghan_hound :          8 %\n",
      "Accuracy of                           chow :          8 %\n",
      "Accuracy of               Blenheim_spaniel :          8 %\n",
      "Accuracy of           Bernese_mountain_dog :          7 %\n",
      "Accuracy of           Old_English_sheepdog :          7 %\n",
      "Accuracy of                   Walker_hound :          7 %\n",
      "Accuracy of                         collie :          7 %\n",
      "Accuracy of    West_Highland_white_terrier :          6 %\n",
      "Accuracy of               English_foxhound :          6 %\n",
      "Accuracy of                   Newfoundland :          6 %\n",
      "Accuracy of                giant_schnauzer :          6 %\n",
      "Accuracy of                Norfolk_terrier :          5 %\n",
      "Accuracy of               Sealyham_terrier :          5 %\n",
      "Accuracy of                    Appenzeller :          5 %\n",
      "Accuracy of                Irish_wolfhound :          5 %\n",
      "Accuracy of             Bedlington_terrier :          5 %\n",
      "Accuracy of                  silky_terrier :          4 %\n",
      "Accuracy of                     bloodhound :          4 %\n",
      "Accuracy of               golden_retriever :          4 %\n",
      "Accuracy of              Shetland_sheepdog :          4 %\n",
      "Accuracy of                  affenpinscher :          4 %\n",
      "Accuracy of                       Doberman :          4 %\n",
      "Accuracy of                         beagle :          4 %\n",
      "Accuracy of      Staffordshire_bullterrier :          4 %\n",
      "Accuracy of             standard_schnauzer :          4 %\n",
      "Accuracy of               Brittany_spaniel :          4 %\n",
      "Accuracy of                         kuvasz :          4 %\n",
      "Accuracy of        black_and_tan_coonhound :          3 %\n",
      "Accuracy of                  Gordon_setter :          3 %\n",
      "Accuracy of    soft_coated_wheaten_terrier :          3 %\n",
      "Accuracy of                German_shepherd :          3 %\n",
      "Accuracy of               Japanese_spaniel :          3 %\n",
      "Accuracy of                        redbone :          3 %\n",
      "Accuracy of                Tibetan_terrier :          3 %\n",
      "Accuracy of                         briard :          3 %\n",
      "Accuracy of                       keeshond :          3 %\n",
      "Accuracy of                  Irish_terrier :          3 %\n",
      "Accuracy of                 French_bulldog :          3 %\n",
      "Accuracy of        wire_haired_fox_terrier :          3 %\n",
      "Accuracy of       Chesapeake_Bay_retriever :          3 %\n",
      "Accuracy of               English_springer :          3 %\n",
      "Accuracy of                         borzoi :          2 %\n",
      "Accuracy of                    Maltese_dog :          2 %\n",
      "Accuracy of            Rhodesian_ridgeback :          2 %\n",
      "Accuracy of                            pug :          2 %\n",
      "Accuracy of                   Ibizan_hound :          2 %\n",
      "Accuracy of             Norwegian_elkhound :          2 %\n",
      "Accuracy of                          cairn :          2 %\n",
      "Accuracy of                       Airedale :          2 %\n",
      "Accuracy of               Lakeland_terrier :          1 %\n",
      "Accuracy of                     Pomeranian :          1 %\n",
      "Accuracy of                       papillon :          1 %\n",
      "Accuracy of                       Shih_Tzu :          1 %\n",
      "Accuracy of                    toy_terrier :          0 %\n",
      "Accuracy of                       bluetick :          0 %\n",
      "Accuracy of              Italian_greyhound :          0 %\n",
      "Accuracy of                        whippet :          0 %\n",
      "Accuracy of                     otterhound :          0 %\n",
      "Accuracy of American_Staffordshire_terrier :          0 %\n",
      "Accuracy of                 Border_terrier :          0 %\n",
      "Accuracy of            miniature_schnauzer :          0 %\n",
      "Accuracy of         curly_coated_retriever :          0 %\n",
      "Accuracy of             Labrador_retriever :          0 %\n",
      "Accuracy of    German_short_haired_pointer :          0 %\n",
      "Accuracy of                        clumber :          0 %\n",
      "Accuracy of         Welsh_springer_spaniel :          0 %\n",
      "Accuracy of                 cocker_spaniel :          0 %\n",
      "Accuracy of                     schipperke :          0 %\n",
      "Accuracy of                       malinois :          0 %\n",
      "Accuracy of                         kelpie :          0 %\n",
      "Accuracy of                  Border_collie :          0 %\n",
      "Accuracy of                          boxer :          0 %\n",
      "Accuracy of                Tibetan_mastiff :          0 %\n",
      "Accuracy of                     Great_Dane :          0 %\n",
      "Accuracy of                     Eskimo_dog :          0 %\n",
      "Accuracy of                       malamute :          0 %\n",
      "Accuracy of                 Siberian_husky :          0 %\n",
      "Accuracy of                        basenji :          0 %\n",
      "Accuracy of                 Great_Pyrenees :          0 %\n",
      "Accuracy of              Brabancon_griffon :          0 %\n",
      "Accuracy of                       Cardigan :          0 %\n",
      "Accuracy of                     toy_poodle :          0 %\n",
      "Accuracy of               miniature_poodle :          0 %\n",
      "Accuracy of                standard_poodle :          0 %\n",
      "Accuracy of                          dingo :          0 %\n",
      "Mean accuracy: 7.109557 %\n"
     ]
    }
   ],
   "source": [
    "from sklearn.metrics import accuracy_score\n",
    "from sklearn.metrics import confusion_matrix\n",
    "cm = confusion_matrix(test_labels, preds)\n",
    "np.savetxt('subset_svm_sift_confusion.txt', cm)\n",
    "\n",
    "meanacc = accuracy_score(test_labels, preds)*100\n",
    "classacc = 100*(cm.diagonal()/cm.sum(axis=1))\n",
    "f = open(\"../../classes.txt\", \"r\")\n",
    "classmap = {}\n",
    "for i in range(120):\n",
    "    classs = f.readline().split(\" \")\n",
    "    classmap[classs[0]] = classacc[i]\n",
    "    \n",
    "    \n",
    "i = 1\n",
    "with open('subset_svm_sift_accuracies.txt','w') as l:\n",
    "    for k, v in classmap.items():\n",
    "        l.write(k + '   {}\\n'.format(v))\n",
    "        i+=1\n",
    "        \n",
    "sortedmap = sorted(classmap.items(), key=lambda item: item[1], reverse=True)\n",
    "\n",
    "for k, v in sortedmap:\n",
    "    print('Accuracy of %30s : %10d %%' % (k, v))\n",
    "print('Mean accuracy: %5f %%' % meanacc)"
   ]
  },
  {
   "cell_type": "code",
   "execution_count": null,
   "metadata": {},
   "outputs": [],
   "source": []
  }
 ],
 "metadata": {
  "kernelspec": {
   "display_name": "Python 3",
   "language": "python",
   "name": "python3"
  },
  "language_info": {
   "codemirror_mode": {
    "name": "ipython",
    "version": 3
   },
   "file_extension": ".py",
   "mimetype": "text/x-python",
   "name": "python",
   "nbconvert_exporter": "python",
   "pygments_lexer": "ipython3",
   "version": "3.8.5"
  }
 },
 "nbformat": 4,
 "nbformat_minor": 4
}
