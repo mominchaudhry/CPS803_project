{
 "cells": [
  {
   "cell_type": "code",
   "execution_count": 1,
   "metadata": {},
   "outputs": [],
   "source": [
    "import matplotlib\n",
    "import matplotlib.pyplot as plt\n",
    "import matplotlib.ticker as ticker\n",
    "import numpy as np"
   ]
  },
  {
   "cell_type": "code",
   "execution_count": 4,
   "metadata": {},
   "outputs": [
    {
     "name": "stderr",
     "output_type": "stream",
     "text": [
      "C:\\Users\\ashka\\Anaconda3\\lib\\site-packages\\ipykernel_launcher.py:15: RuntimeWarning: invalid value encountered in true_divide\n",
      "  from ipykernel import kernelapp as app\n"
     ]
    }
   ],
   "source": [
    "\"\"\"\n",
    "    Cell purpose : Loading confusion matrix of each model and calculating precision and recall\n",
    "\"\"\"\n",
    "def calc_precision_recall(confusion_matrix):\n",
    "    \"\"\"\n",
    "        this function calculates and returns the precision and recall of the given confusion matrix\n",
    "        \n",
    "        args: confusion matrix\n",
    "        return: precision, recall\n",
    "    \"\"\"\n",
    "    true_pos = np.diag(confusion_matrix)\n",
    "    false_pos = np.sum(confusion_matrix, axis=0) - true_pos\n",
    "    false_neg = np.sum(confusion_matrix, axis=1) - true_pos\n",
    "    \n",
    "    precision = np.sum(np.nan_to_num(true_pos / (true_pos + false_pos))) / 120\n",
    "    recall = np.sum(np.nan_to_num(true_pos / (true_pos + false_neg))) / 120\n",
    "    \n",
    "    return precision, recall\n",
    "\n",
    "cm_cnn = np.loadtxt(\"../../Largeset_notebooks/CNN/cnn_confusion.txt\", dtype=float)\n",
    "cm_kmeans_cnn = np.loadtxt(\"../../Largeset_notebooks/K_Means/kmeans_cnn_confusion.txt\", dtype=float)\n",
    "cm_kmeans_sift = np.loadtxt(\"../../Largeset_notebooks/K_Means/kmeans_sift_confusion.txt\", dtype=float)\n",
    "cm_svm_cnn = np.loadtxt(\"../../Largeset_notebooks/SVM/svm_cnn_confusion.txt\", dtype=float)\n",
    "cm_svm_sift = np.loadtxt(\"../../Largeset_notebooks/SVM/svm_sift_confusion.txt\", dtype=float)\n",
    "\n",
    "cnn_precision, cnn_recall = calc_precision_recall(cm_cnn)\n",
    "kmeans_cnn_precision, kmeans_cnn_recall = calc_precision_recall(cm_kmeans_cnn)\n",
    "kmeans_sift_precision, kmeans_sift_recall = calc_precision_recall(cm_kmeans_sift)\n",
    "svm_cnn_precision, svm_cnn_recall = calc_precision_recall(cm_svm_cnn)\n",
    "svm_sift_precision, svm_sift_recall = calc_precision_recall(cm_svm_sift)"
   ]
  },
  {
   "cell_type": "code",
   "execution_count": 69,
   "metadata": {},
   "outputs": [
    {
     "data": {
      "image/png": "[encoded data removed]",
      "text/plain": [
       "<Figure size 508.8x288 with 1 Axes>"
      ]
     },
     "metadata": {
      "needs_background": "light"
     },
     "output_type": "display_data"
    }
   ],
   "source": [
    "\"\"\"\n",
    "    Cell purpose : Plotting a barh graph for precision and recall of each model in Largesubset\n",
    "\"\"\"\n",
    "def autolabel(rects):\n",
    "    \"\"\"Attach a text label above each bar in *rects*, displaying its height.\"\"\"\n",
    "    for rect in rects:\n",
    "        height = rect.get_height()\n",
    "        width = rect.get_width()\n",
    "        ax.annotate('{:.3f}'.format(width),\n",
    "                    xy=(rect.get_x() + width, rect.get_y()),\n",
    "                    xytext=(15, 0),  # 3 points vertical offset\n",
    "                    textcoords=\"offset points\",\n",
    "                    ha='center', va='bottom')\n",
    "\n",
    "ylabels = ['CNN', 'Kmeans_CNN', 'kmeans_SIFT', 'SVM_CNN', 'SVM_SIFT']\n",
    "precisions = [cnn_precision, kmeans_cnn_precision, kmeans_sift_precision, svm_cnn_precision, svm_sift_precision]\n",
    "recalls = [cnn_recall, kmeans_cnn_recall, kmeans_sift_recall, svm_cnn_recall, svm_sift_recall]\n",
    "\n",
    "y = np.arange(len(ylabels))  # the label locations\n",
    "width = 0.25  # the width of the bars\n",
    "fig, ax = plt.subplots()\n",
    "rects1 = ax.barh(y - (width/2), precisions, width, label='precision', color='r')\n",
    "rects2 = ax.barh(y + (width/2), recalls, width, label='recall', color='c')\n",
    "\n",
    "\n",
    "# Add some text for labels, title and custom x-axis tick labels, etc.\n",
    "ax.set_ylabel('Model', fontweight='bold')\n",
    "ax.set_xlabel('Precision & Recall', fontweight='bold')\n",
    "ax.set_title('Precision and Recall Comparison for All Models\\nUsing Large Dataset', fontweight='bold')\n",
    "ax.set_yticks(y)\n",
    "ax.set_yticklabels(ylabels)\n",
    "ax.legend()\n",
    "\n",
    "# changing the graph size\n",
    "N = 30\n",
    "plt.gca().margins(x=0.1)\n",
    "plt.gcf().canvas.draw()\n",
    "tl = plt.gca().get_xticklabels()\n",
    "maxsize = max([t.get_window_extent().width for t in tl])\n",
    "m = 0.2 # inch margin\n",
    "s = maxsize/plt.gcf().dpi*N+2*m\n",
    "margin = m/plt.gcf().get_size_inches()[0]\n",
    "plt.gcf().subplots_adjust(left=margin, right=1.-margin)\n",
    "plt.gcf().set_size_inches(s, plt.gcf().get_size_inches()[1])\n",
    "# changing the graph size\n",
    "\n",
    "autolabel(rects1)\n",
    "autolabel(rects2)\n",
    "\n",
    "fig.tight_layout()\n",
    "fig.savefig('./' + 'largeset_precision_and_recall' + '.jpg')\n",
    "\n",
    "plt.show()"
   ]
  },
  {
   "cell_type": "code",
   "execution_count": null,
   "metadata": {},
   "outputs": [],
   "source": []
  }
 ],
 "metadata": {
  "kernelspec": {
   "display_name": "Python 3",
   "language": "python",
   "name": "python3"
  },
  "language_info": {
   "codemirror_mode": {
    "name": "ipython",
    "version": 3
   },
   "file_extension": ".py",
   "mimetype": "text/x-python",
   "name": "python",
   "nbconvert_exporter": "python",
   "pygments_lexer": "ipython3",
   "version": "3.7.3"
  }
 },
 "nbformat": 4,
 "nbformat_minor": 4
}
